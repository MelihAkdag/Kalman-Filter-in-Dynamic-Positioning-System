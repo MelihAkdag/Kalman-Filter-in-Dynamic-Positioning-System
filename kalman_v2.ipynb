{
 "cells": [
  {
   "cell_type": "markdown",
   "metadata": {},
   "source": [
    "# Kalman Filter Application in Dynamic Positioning System \n",
    "\n",
    "My main goal of this study is to understand how to apply kalman filter by using Python. I wanted to choose an example from a real life scenerio. As I had experience working onboard a ship with Dynamic Positioning (DP) system, I knew that kalman filter is widely used in the system.\n",
    "\n",
    "Before starting the study, I should explain what is the Dynamic Positioning System and how is the kalman filter used in DP systems.\n",
    "\n",
    "Especially in the offshore industry, DP system is widely used to automatically maintain a marine platform's (either a ship or an offshore platform) position, heading (yaw angle), follow survey routes, conduct berthing or docking maneavours. These platforms have multiple thrusters (propellers) and multiple sensors (GPS, wind, current, IMU sensors, acoustic transponders, laser rangefinders etc). \n",
    "\n",
    "For a position keeping scenario, imagine the platform is on the location where we want to keep her position. One can measure her position from multiple GPS sensors. And if acoustic transponders are used, one can also see the relative position of the platform from these transponders. In reality, sensor data can be noisy and unstable. At the same time external forces like wind or current speed and direction can change over time. External forces can cause a drift in the platform's position. Every time the position information changes, the DP system commands thrusters to get the platform back into her desired position. If the system uses these unstable and noisy data, it can command thrusters unnecessarily and this can cause more of a position drift. Kalman filter is used to in order to discard these noisy data and estimate a stable position information. For more information about the kalman filter and it's use in DP system, I would recommend you to check resources at the end of this study. \n",
    "\n",
    "In reality, DP system configuration is much more complex than this definition of mine, but I wanted to explain the basics of the procedure. In order to simplfy the problem, I didn't use velocity, accelaration, wind, current data. I used only position data (x and y axes). And I followed these steps:\n",
    "1. Defining number of steps (or time period).\n",
    "* Defining actual (physical) position of the ship. In order to simplfy the study x and y axes are used instead of geographic coordinates.\n",
    "* Creating imaginary, noisy position measuremants with the same number of steps.\n",
    "* Creating empty arrays to save calculated measurements after kalman filter is applied.\n",
    "* Defining related matrices for mathematical calculations.\n",
    "* Conducting calculations and saving measurements.\n",
    "* Visualising the actual, noisy measurements and estimated positions."
   ]
  },
  {
   "cell_type": "markdown",
   "metadata": {},
   "source": [
    "## Kalman Filter\n",
    "\n",
    "There are amazing resources to learn about kalman filters, and I would recommend to check the resources at the end of this study. But I need to define some of the mathematical steps in order to clarify my study.\n",
    "\n",
    "### System State\n",
    "First of all, we have our ship's state (which is the position). This state is represented with x and consists of position information on x and y axes. Because I am not going to use control inputs in this study, there isn't any 'B' or 'u' matrices. And we have our state measurement which is z.\n",
    "\n",
    "$$ x_{k} = Ax_{k–1} + Bu_{k – 1} + w_{k – 1} $$\n",
    "\n",
    "$$ z_{k} = Hx_{k} + v_{k} $$\n",
    "\n",
    "'w' is the process noise and 'v' is the measurement noise. And we assume they have normal probabilty distribution. Process noise has a process noise covariance of 'Q' and measurement has a measurement noise covariance of 'R'.\n",
    "\n",
    "$$ p(w) \\text{~} N(0, Q) $$\n",
    "$$ p(v) \\text{~} N(0, R) $$\n",
    "\n",
    "### Kalman Filter Cycle\n",
    "\n",
    "Steps can be summarized as follows: \n",
    "1. Calculate a priori estimate  \n",
    "\n",
    "    $ x^{ˆ-}_k = A x^{ˆ-}_{k-1} $\n",
    "   \n",
    "\n",
    "2. Calculate a priori noise covariance\n",
    "\n",
    "    $ P^{-}_k = A P_{k-1} A^{T} + Q $\n",
    "    \n",
    "\n",
    "3. Calculate kalman gain\n",
    "    \n",
    "    $  K_k = \\frac{P^{-}_k C^{T}}{C P^{-}_k C^{T} + R} $ \n",
    "    \n",
    "\n",
    "4. Calculate a posteriori estimate\n",
    "\n",
    "    $  x^{ˆ}_k = x^{ˆ-}_k + K_k (z_{k} - C x^{ˆ-}_k)   $\n",
    "\n",
    "\n",
    "5. Calculate a posteriori noise covariance\n",
    "\n",
    "    $ P_k = (I - K_k C)P^{-}_k  $\n",
    "    \n",
    "\n",
    "6. Use a posteriori estimate and noise covariance as new a priori estimate and covairance, and repeat the steps.\n",
    "\n",
    "### Matrix Operations\n",
    "As an example let's look at a priori estimate calculation. The ship's position information consists of x and y values. So our a priori estimate is a matrix. \n",
    "\n",
    "$$ x^{ˆ-}_k = \\begin{bmatrix} Posx_k \\\\ Posy_k \\end{bmatrix} \n",
    "= A\n",
    "\\begin{bmatrix} Posx_{k-1} \\\\ Posy_{k-1} \\end{bmatrix}\n",
    "$$ \n",
    "\n",
    "To be able to conduct matrix operation above, we should have A matrix of (2x2). Similarly we should consider B, H, I, K, P, Q, R matrices properly. This process is different for each application and depends on our system's mathematical model. Because I dind't use ship velocity, wind, current or IMU sensor data, I only needed (2x1), (2x2) shaped matrices."
   ]
  },
  {
   "cell_type": "code",
   "execution_count": 101,
   "metadata": {},
   "outputs": [],
   "source": [
    "import numpy as np\n",
    "import pandas as pd\n",
    "import math\n",
    "import matplotlib.pyplot as plt\n",
    "from numpy.linalg import inv"
   ]
  },
  {
   "cell_type": "markdown",
   "metadata": {},
   "source": [
    "## 1. Defining number of steps (or time period)"
   ]
  },
  {
   "cell_type": "code",
   "execution_count": 102,
   "metadata": {},
   "outputs": [],
   "source": [
    "n_iters = 50"
   ]
  },
  {
   "cell_type": "markdown",
   "metadata": {},
   "source": [
    "## 2. Defining actual (physical) position of the ship"
   ]
  },
  {
   "cell_type": "code",
   "execution_count": 103,
   "metadata": {},
   "outputs": [
    {
     "name": "stdout",
     "output_type": "stream",
     "text": [
      "Q matrix:  (2, 2) \n",
      "\n",
      " [[0.0001 0.0001]\n",
      " [0.0001 0.0001]]\n"
     ]
    }
   ],
   "source": [
    "# Actual position of the ship\n",
    "actual_x = 0\n",
    "actual_y = 0\n",
    "\n",
    "# Process noise covariance which is assumed to be a small value.\n",
    "Q = np.full((2,2), 0.0001)\n",
    "print('Q matrix: ', Q.shape, '\\n\\n', Q)"
   ]
  },
  {
   "cell_type": "markdown",
   "metadata": {},
   "source": [
    "## 3. Creating imaginary, noisy position measuremants with same number of steps.\n",
    "\n",
    "Normally distributed noisy measurements for x and y values are created here. "
   ]
  },
  {
   "cell_type": "code",
   "execution_count": 104,
   "metadata": {},
   "outputs": [
    {
     "name": "stdout",
     "output_type": "stream",
     "text": [
      "Measurements:  (50, 2, 1) \n",
      "\n",
      " [[[ 0.64544581]\n",
      "  [-0.42449482]]\n",
      "\n",
      " [[ 0.92932439]\n",
      "  [ 0.57850016]]\n",
      "\n",
      " [[-0.36139572]\n",
      "  [-0.65502123]]\n",
      "\n",
      " [[-0.03357634]\n",
      "  [-0.22994698]]\n",
      "\n",
      " [[-0.23329244]\n",
      "  [ 0.75642983]]] \n",
      " ...\n"
     ]
    }
   ],
   "source": [
    "# Create 50 random x and y position measurements\n",
    "x_pos = np.random.normal(0, 0.5, n_iters)\n",
    "y_pos = np.random.normal(0, 0.5, n_iters)\n",
    "\n",
    "# Combine the measurements in a matrix\n",
    "measurements = np.stack((x_pos, y_pos), axis=1).reshape((n_iters,2,1))\n",
    "\n",
    "print('Measurements: ', measurements.shape, '\\n\\n', measurements[0:5], '\\n', '...')"
   ]
  },
  {
   "cell_type": "markdown",
   "metadata": {},
   "source": [
    "We need to define our measurement noise covariance. Change in R matrix can be examined in the position estimates. Because R is going to be used in kalman gain."
   ]
  },
  {
   "cell_type": "code",
   "execution_count": 105,
   "metadata": {},
   "outputs": [
    {
     "name": "stdout",
     "output_type": "stream",
     "text": [
      "R matrix:  (2, 2) \n",
      "\n",
      " [[0.25 0.  ]\n",
      " [0.   0.25]]\n"
     ]
    }
   ],
   "source": [
    "# Measurement noise covariance.\n",
    "R = np.diag([0.25, 0.25])\n",
    "print('R matrix: ', R.shape, '\\n\\n', R)"
   ]
  },
  {
   "cell_type": "markdown",
   "metadata": {},
   "source": [
    "## 4. Creating empty arrays\n",
    "\n",
    "Empty arrays are created to save estimated positions after the kalman filter is applied."
   ]
  },
  {
   "cell_type": "code",
   "execution_count": 106,
   "metadata": {},
   "outputs": [],
   "source": [
    "# Creating empty matrices\n",
    "x_hat = np.zeros((n_iters, 2,1))\n",
    "P = np.zeros((n_iters,2,2))\n",
    "x_hat_min = np.zeros((n_iters, 2,1))\n",
    "P_min = np.zeros((n_iters,2,2))\n",
    "K = np.zeros((n_iters,2,2))"
   ]
  },
  {
   "cell_type": "markdown",
   "metadata": {},
   "source": [
    "Initial position of the ship and initial error covariance should be defined. A high value of initial error covariance is chosen here. But one can see the error covariance will decrease with the successive steps."
   ]
  },
  {
   "cell_type": "code",
   "execution_count": 107,
   "metadata": {},
   "outputs": [
    {
     "name": "stdout",
     "output_type": "stream",
     "text": [
      "x_hat[0]:\n",
      "\n",
      " [[0.]\n",
      " [0.]] \n",
      "\n",
      " P[0] matrix:  (2, 2) \n",
      "\n",
      " [[1000.    0.]\n",
      " [   0. 1000.]]\n"
     ]
    }
   ],
   "source": [
    "# Initial state\n",
    "x_hat[0] = [[0],[0]]\n",
    "\n",
    "# Initial error covariance\n",
    "P[0] = np.diag([1000.0, 1000.0])\n",
    "\n",
    "print('x_hat[0]:\\n\\n', x_hat[0], '\\n\\n P[0] matrix: ', P[0].shape, '\\n\\n', P[0])"
   ]
  },
  {
   "cell_type": "markdown",
   "metadata": {},
   "source": [
    "## 5. Defining related matrices for mathematical calculations."
   ]
  },
  {
   "cell_type": "code",
   "execution_count": 108,
   "metadata": {},
   "outputs": [
    {
     "name": "stdout",
     "output_type": "stream",
     "text": [
      "A matrix \n",
      "\n",
      " [[1. 0.]\n",
      " [0. 1.]] \n",
      "\n",
      " H matrix \n",
      "\n",
      " [[1. 0.]\n",
      " [0. 1.]] \n",
      "\n",
      " I matrix \n",
      "\n",
      " [[1. 0.]\n",
      " [0. 1.]]\n"
     ]
    }
   ],
   "source": [
    "# A matrix\n",
    "A = np.array([[1.0, 0.0],\n",
    "               [0.0, 1.0]])\n",
    "\n",
    "# H matrix\n",
    "H = np.eye(2)\n",
    "\n",
    "# Unit matrix for Kalman gain\n",
    "I = np.eye(2)\n",
    "\n",
    "print('A matrix \\n\\n', A, '\\n\\n H matrix \\n\\n', H, '\\n\\n I matrix \\n\\n', I)"
   ]
  },
  {
   "cell_type": "markdown",
   "metadata": {},
   "source": [
    "## 6. Conducting calculations and saving measurements."
   ]
  },
  {
   "cell_type": "code",
   "execution_count": 109,
   "metadata": {},
   "outputs": [],
   "source": [
    "for k in range(1, n_iters):\n",
    "    # Calculating a priori estimate and error covariance\n",
    "    x_hat_min[k] = A.dot(x_hat[k-1])\n",
    "    P_min[k] = A.dot(P[k-1]).dot(A.T) + Q\n",
    "    \n",
    "    # Calculating Kalman gain\n",
    "    S = H.dot(P_min[k]).dot(H.T) + R\n",
    "    K[k] = P_min[k].dot(H.T).dot(inv(S))\n",
    "    \n",
    "    # Calculating a posteriori estimate and error covariance\n",
    "    x_hat[k] = x_hat_min[k] + K[k].dot(measurements[k] - H.dot(x_hat_min[k]))\n",
    "    P[k] = (I - K[k]).dot(P_min[k])"
   ]
  },
  {
   "cell_type": "markdown",
   "metadata": {},
   "source": [
    "## 7. Visualising the actual, noisy measurements and estimated positions.\n",
    "\n",
    "Actual position is plotted in red, noisy measurements are plotted in orange and kalman filtered estimates are plotted in blue for x and y coordinates."
   ]
  },
  {
   "cell_type": "code",
   "execution_count": 112,
   "metadata": {},
   "outputs": [
    {
     "data": {
      "image/png": "[encoded data removed]",
      "text/plain": [
       "<Figure size 504x504 with 1 Axes>"
      ]
     },
     "metadata": {
      "needs_background": "light"
     },
     "output_type": "display_data"
    }
   ],
   "source": [
    "plt.figure(figsize=(7,7))\n",
    "for n in range(n_iters):\n",
    "    plt.scatter(float(measurements[n][0]), float(measurements[n][1]), \n",
    "                color='orange', label='measured position', alpha=0.7)\n",
    "    plt.scatter(float(x_hat[n][0]), float(x_hat[n][1]), \n",
    "                color='blue', label='kalman position', alpha=0.3)\n",
    "\n",
    "plt.scatter(actual_x, actual_y, color='red', s=100, label='actual position')\n",
    "plt.title('Actual, Measured and Estimated Positions')\n",
    "plt.xlabel('X axis')\n",
    "plt.ylabel('Y axis');"
   ]
  },
  {
   "cell_type": "markdown",
   "metadata": {},
   "source": [
    "Actual position, measurements and estimates for x and y values are plotted seperately through the steps. "
   ]
  },
  {
   "cell_type": "code",
   "execution_count": 113,
   "metadata": {
    "scrolled": false
   },
   "outputs": [
    {
     "data": {
      "image/png": "[encoded data removed]",
      "text/plain": [
       "<Figure size 720x360 with 1 Axes>"
      ]
     },
     "metadata": {
      "needs_background": "light"
     },
     "output_type": "display_data"
    },
    {
     "data": {
      "image/png": "[encoded data removed]",
      "text/plain": [
       "<Figure size 720x360 with 1 Axes>"
      ]
     },
     "metadata": {
      "needs_background": "light"
     },
     "output_type": "display_data"
    }
   ],
   "source": [
    "plt.figure(figsize=(10,5))\n",
    "for n in range(n_iters):\n",
    "    plt.scatter(x = n, y = measurements[n][0], label='measurements', color='orange', alpha=0.7)\n",
    "    plt.scatter(x = n, y = x_hat[n][0], label='estimate after kalman', color='blue', alpha=0.5)\n",
    "plt.axhline(actual_x, color='r', label='actual x position')\n",
    "plt.title('Actual, Measured and Estimated Positions on X axis')\n",
    "plt.xlabel('Number of Steps')\n",
    "plt.ylabel('X Position')\n",
    "\n",
    "plt.figure(figsize=(10,5))\n",
    "for n in range(n_iters):\n",
    "    plt.scatter(x = n, y = measurements[n][1], label='measurements', color='orange', alpha=0.7)\n",
    "    plt.scatter(x = n, y = x_hat[n][1], label='estimate after kalman', color='blue', alpha=0.5)\n",
    "plt.axhline(actual_x, color='r', label='actual x position')\n",
    "plt.title('Actual, Measured and Estimated Positions on Y axis')\n",
    "plt.xlabel('Number of Steps')\n",
    "plt.ylabel('Y Position');"
   ]
  },
  {
   "cell_type": "markdown",
   "metadata": {},
   "source": [
    "Visualizing measurements and estimated positions in an animation."
   ]
  },
  {
   "cell_type": "code",
   "execution_count": 124,
   "metadata": {},
   "outputs": [
    {
     "data": {
      "application/vnd.plotly.v1+json": {
       "config": {
        "plotlyServerURL": "https://plot.ly"
       },
       "data": [
        {
         "hovertemplate": "data_type=measured<br>n_steps=0<br>x_position=%{y}<extra></extra>",
         "ids": [
          "measured"
         ],
         "legendgroup": "measured",
         "marker": {
          "color": "#636efa",
          "symbol": "circle"
         },
         "mode": "markers",
         "name": "measured",
         "orientation": "v",
         "showlegend": true,
         "type": "scatter",
         "x": [
          0.645445805899468
         ],
         "xaxis": "x",
         "y": [
          0.645445805899468
         ],
         "yaxis": "y"
        },
        {
         "hovertemplate": "data_type=estimated<br>n_steps=0<br>x_position=%{y}<extra></extra>",
         "ids": [
          "estimated"
         ],
         "legendgroup": "estimated",
         "marker": {
          "color": "#EF553B",
          "symbol": "circle"
         },
         "mode": "markers",
         "name": "estimated",
         "orientation": "v",
         "showlegend": true,
         "type": "scatter",
         "x": [
          0
         ],
         "xaxis": "x2",
         "y": [
          0
         ],
         "yaxis": "y2"
        }
       ],
       "frames": [
        {
         "data": [
          {
           "hovertemplate": "data_type=measured<br>n_steps=0<br>x_position=%{y}<extra></extra>",
           "ids": [
            "measured"
           ],
           "legendgroup": "measured",
           "marker": {
            "color": "#636efa",
            "symbol": "circle"
           },
           "mode": "markers",
           "name": "measured",
           "orientation": "v",
           "showlegend": true,
           "type": "scatter",
           "x": [
            0.645445805899468
           ],
           "xaxis": "x",
           "y": [
            0.645445805899468
           ],
           "yaxis": "y"
          },
          {
           "hovertemplate": "data_type=estimated<br>n_steps=0<br>x_position=%{y}<extra></extra>",
           "ids": [
            "estimated"
           ],
           "legendgroup": "estimated",
           "marker": {
            "color": "#EF553B",
            "symbol": "circle"
           },
           "mode": "markers",
           "name": "estimated",
           "orientation": "v",
           "showlegend": true,
           "type": "scatter",
           "x": [
            0
           ],
           "xaxis": "x2",
           "y": [
            0
           ],
           "yaxis": "y2"
          }
         ],
         "name": "0"
        },
        {
         "data": [
          {
           "hovertemplate": "data_type=measured<br>n_steps=1<br>x_position=%{y}<extra></extra>",
           "ids": [
            "measured"
           ],
           "legendgroup": "measured",
           "marker": {
            "color": "#636efa",
            "symbol": "circle"
           },
           "mode": "markers",
           "name": "measured",
           "orientation": "v",
           "showlegend": true,
           "type": "scatter",
           "x": [
            0.9293243915129075
           ],
           "xaxis": "x",
           "y": [
            0.9293243915129075
           ],
           "yaxis": "y"
          },
          {
           "hovertemplate": "data_type=estimated<br>n_steps=1<br>x_position=%{y}<extra></extra>",
           "ids": [
            "estimated"
           ],
           "legendgroup": "estimated",
           "marker": {
            "color": "#EF553B",
            "symbol": "circle"
           },
           "mode": "markers",
           "name": "estimated",
           "orientation": "v",
           "showlegend": true,
           "type": "scatter",
           "x": [
            0.9290921185209634
           ],
           "xaxis": "x2",
           "y": [
            0.9290921185209634
           ],
           "yaxis": "y2"
          }
         ],
         "name": "1"
        },
        {
         "data": [
          {
           "hovertemplate": "data_type=measured<br>n_steps=2<br>x_position=%{y}<extra></extra>",
           "ids": [
            "measured"
           ],
           "legendgroup": "measured",
           "marker": {
            "color": "#636efa",
            "symbol": "circle"
           },
           "mode": "markers",
           "name": "measured",
           "orientation": "v",
           "showlegend": true,
           "type": "scatter",
           "x": [
            -0.36139572000911685
           ],
           "xaxis": "x",
           "y": [
            -0.36139572000911685
           ],
           "yaxis": "y"
          },
          {
           "hovertemplate": "data_type=estimated<br>n_steps=2<br>x_position=%{y}<extra></extra>",
           "ids": [
            "estimated"
           ],
           "legendgroup": "estimated",
           "marker": {
            "color": "#EF553B",
            "symbol": "circle"
           },
           "mode": "markers",
           "name": "estimated",
           "orientation": "v",
           "showlegend": true,
           "type": "scatter",
           "x": [
            0.28367649604489464
           ],
           "xaxis": "x2",
           "y": [
            0.28367649604489464
           ],
           "yaxis": "y2"
          }
         ],
         "name": "2"
        },
        {
         "data": [
          {
           "hovertemplate": "data_type=measured<br>n_steps=3<br>x_position=%{y}<extra></extra>",
           "ids": [
            "measured"
           ],
           "legendgroup": "measured",
           "marker": {
            "color": "#636efa",
            "symbol": "circle"
           },
           "mode": "markers",
           "name": "measured",
           "orientation": "v",
           "showlegend": true,
           "type": "scatter",
           "x": [
            -0.03357634391252297
           ],
           "xaxis": "x",
           "y": [
            -0.03357634391252297
           ],
           "yaxis": "y"
          },
          {
           "hovertemplate": "data_type=estimated<br>n_steps=3<br>x_position=%{y}<extra></extra>",
           "ids": [
            "estimated"
           ],
           "legendgroup": "estimated",
           "marker": {
            "color": "#EF553B",
            "symbol": "circle"
           },
           "mode": "markers",
           "name": "estimated",
           "orientation": "v",
           "showlegend": true,
           "type": "scatter",
           "x": [
            0.17782138791978724
           ],
           "xaxis": "x2",
           "y": [
            0.17782138791978724
           ],
           "yaxis": "y2"
          }
         ],
         "name": "3"
        },
        {
         "data": [
          {
           "hovertemplate": "data_type=measured<br>n_steps=4<br>x_position=%{y}<extra></extra>",
           "ids": [
            "measured"
           ],
           "legendgroup": "measured",
           "marker": {
            "color": "#636efa",
            "symbol": "circle"
           },
           "mode": "markers",
           "name": "measured",
           "orientation": "v",
           "showlegend": true,
           "type": "scatter",
           "x": [
            -0.233292441323481
           ],
           "xaxis": "x",
           "y": [
            -0.233292441323481
           ],
           "yaxis": "y"
          },
          {
           "hovertemplate": "data_type=estimated<br>n_steps=4<br>x_position=%{y}<extra></extra>",
           "ids": [
            "estimated"
           ],
           "legendgroup": "estimated",
           "marker": {
            "color": "#EF553B",
            "symbol": "circle"
           },
           "mode": "markers",
           "name": "estimated",
           "orientation": "v",
           "showlegend": true,
           "type": "scatter",
           "x": [
            0.07520589066534539
           ],
           "xaxis": "x2",
           "y": [
            0.07520589066534539
           ],
           "yaxis": "y2"
          }
         ],
         "name": "4"
        },
        {
         "data": [
          {
           "hovertemplate": "data_type=measured<br>n_steps=5<br>x_position=%{y}<extra></extra>",
           "ids": [
            "measured"
           ],
           "legendgroup": "measured",
           "marker": {
            "color": "#636efa",
            "symbol": "circle"
           },
           "mode": "markers",
           "name": "measured",
           "orientation": "v",
           "showlegend": true,
           "type": "scatter",
           "x": [
            0.6436486090007763
           ],
           "xaxis": "x",
           "y": [
            0.6436486090007763
           ],
           "yaxis": "y"
          },
          {
           "hovertemplate": "data_type=estimated<br>n_steps=5<br>x_position=%{y}<extra></extra>",
           "ids": [
            "estimated"
           ],
           "legendgroup": "estimated",
           "marker": {
            "color": "#EF553B",
            "symbol": "circle"
           },
           "mode": "markers",
           "name": "estimated",
           "orientation": "v",
           "showlegend": true,
           "type": "scatter",
           "x": [
            0.18935217921302533
           ],
           "xaxis": "x2",
           "y": [
            0.18935217921302533
           ],
           "yaxis": "y2"
          }
         ],
         "name": "5"
        },
        {
         "data": [
          {
           "hovertemplate": "data_type=measured<br>n_steps=6<br>x_position=%{y}<extra></extra>",
           "ids": [
            "measured"
           ],
           "legendgroup": "measured",
           "marker": {
            "color": "#636efa",
            "symbol": "circle"
           },
           "mode": "markers",
           "name": "measured",
           "orientation": "v",
           "showlegend": true,
           "type": "scatter",
           "x": [
            -0.4512754842460539
           ],
           "xaxis": "x",
           "y": [
            -0.4512754842460539
           ],
           "yaxis": "y"
          },
          {
           "hovertemplate": "data_type=estimated<br>n_steps=6<br>x_position=%{y}<extra></extra>",
           "ids": [
            "estimated"
           ],
           "legendgroup": "estimated",
           "marker": {
            "color": "#EF553B",
            "symbol": "circle"
           },
           "mode": "markers",
           "name": "estimated",
           "orientation": "v",
           "showlegend": true,
           "type": "scatter",
           "x": [
            0.08231425605778467
           ],
           "xaxis": "x2",
           "y": [
            0.08231425605778467
           ],
           "yaxis": "y2"
          }
         ],
         "name": "6"
        },
        {
         "data": [
          {
           "hovertemplate": "data_type=measured<br>n_steps=7<br>x_position=%{y}<extra></extra>",
           "ids": [
            "measured"
           ],
           "legendgroup": "measured",
           "marker": {
            "color": "#636efa",
            "symbol": "circle"
           },
           "mode": "markers",
           "name": "measured",
           "orientation": "v",
           "showlegend": true,
           "type": "scatter",
           "x": [
            0.37724479985789283
           ],
           "xaxis": "x",
           "y": [
            0.37724479985789283
           ],
           "yaxis": "y"
          },
          {
           "hovertemplate": "data_type=estimated<br>n_steps=7<br>x_position=%{y}<extra></extra>",
           "ids": [
            "estimated"
           ],
           "legendgroup": "estimated",
           "marker": {
            "color": "#EF553B",
            "symbol": "circle"
           },
           "mode": "markers",
           "name": "estimated",
           "orientation": "v",
           "showlegend": true,
           "type": "scatter",
           "x": [
            0.12446142154627676
           ],
           "xaxis": "x2",
           "y": [
            0.12446142154627676
           ],
           "yaxis": "y2"
          }
         ],
         "name": "7"
        },
        {
         "data": [
          {
           "hovertemplate": "data_type=measured<br>n_steps=8<br>x_position=%{y}<extra></extra>",
           "ids": [
            "measured"
           ],
           "legendgroup": "measured",
           "marker": {
            "color": "#636efa",
            "symbol": "circle"
           },
           "mode": "markers",
           "name": "measured",
           "orientation": "v",
           "showlegend": true,
           "type": "scatter",
           "x": [
            0.5166875925356054
           ],
           "xaxis": "x",
           "y": [
            0.5166875925356054
           ],
           "yaxis": "y"
          },
          {
           "hovertemplate": "data_type=estimated<br>n_steps=8<br>x_position=%{y}<extra></extra>",
           "ids": [
            "estimated"
           ],
           "legendgroup": "estimated",
           "marker": {
            "color": "#EF553B",
            "symbol": "circle"
           },
           "mode": "markers",
           "name": "estimated",
           "orientation": "v",
           "showlegend": true,
           "type": "scatter",
           "x": [
            0.17401797016022294
           ],
           "xaxis": "x2",
           "y": [
            0.17401797016022294
           ],
           "yaxis": "y2"
          }
         ],
         "name": "8"
        },
        {
         "data": [
          {
           "hovertemplate": "data_type=measured<br>n_steps=9<br>x_position=%{y}<extra></extra>",
           "ids": [
            "measured"
           ],
           "legendgroup": "measured",
           "marker": {
            "color": "#636efa",
            "symbol": "circle"
           },
           "mode": "markers",
           "name": "measured",
           "orientation": "v",
           "showlegend": true,
           "type": "scatter",
           "x": [
            -0.2304168086627438
           ],
           "xaxis": "x",
           "y": [
            -0.2304168086627438
           ],
           "yaxis": "y"
          },
          {
           "hovertemplate": "data_type=estimated<br>n_steps=9<br>x_position=%{y}<extra></extra>",
           "ids": [
            "estimated"
           ],
           "legendgroup": "estimated",
           "marker": {
            "color": "#EF553B",
            "symbol": "circle"
           },
           "mode": "markers",
           "name": "estimated",
           "orientation": "v",
           "showlegend": true,
           "type": "scatter",
           "x": [
            0.12803188407579216
           ],
           "xaxis": "x2",
           "y": [
            0.12803188407579216
           ],
           "yaxis": "y2"
          }
         ],
         "name": "9"
        },
        {
         "data": [
          {
           "hovertemplate": "data_type=measured<br>n_steps=10<br>x_position=%{y}<extra></extra>",
           "ids": [
            "measured"
           ],
           "legendgroup": "measured",
           "marker": {
            "color": "#636efa",
            "symbol": "circle"
           },
           "mode": "markers",
           "name": "measured",
           "orientation": "v",
           "showlegend": true,
           "type": "scatter",
           "x": [
            -0.0981389257842708
           ],
           "xaxis": "x",
           "y": [
            -0.0981389257842708
           ],
           "yaxis": "y"
          },
          {
           "hovertemplate": "data_type=estimated<br>n_steps=10<br>x_position=%{y}<extra></extra>",
           "ids": [
            "estimated"
           ],
           "legendgroup": "estimated",
           "marker": {
            "color": "#EF553B",
            "symbol": "circle"
           },
           "mode": "markers",
           "name": "estimated",
           "orientation": "v",
           "showlegend": true,
           "type": "scatter",
           "x": [
            0.10561604620927442
           ],
           "xaxis": "x2",
           "y": [
            0.10561604620927442
           ],
           "yaxis": "y2"
          }
         ],
         "name": "10"
        },
        {
         "data": [
          {
           "hovertemplate": "data_type=measured<br>n_steps=11<br>x_position=%{y}<extra></extra>",
           "ids": [
            "measured"
           ],
           "legendgroup": "measured",
           "marker": {
            "color": "#636efa",
            "symbol": "circle"
           },
           "mode": "markers",
           "name": "measured",
           "orientation": "v",
           "showlegend": true,
           "type": "scatter",
           "x": [
            0.47910253828090665
           ],
           "xaxis": "x",
           "y": [
            0.47910253828090665
           ],
           "yaxis": "y"
          },
          {
           "hovertemplate": "data_type=estimated<br>n_steps=11<br>x_position=%{y}<extra></extra>",
           "ids": [
            "estimated"
           ],
           "legendgroup": "estimated",
           "marker": {
            "color": "#EF553B",
            "symbol": "circle"
           },
           "mode": "markers",
           "name": "estimated",
           "orientation": "v",
           "showlegend": true,
           "type": "scatter",
           "x": [
            0.1400698408559098
           ],
           "xaxis": "x2",
           "y": [
            0.1400698408559098
           ],
           "yaxis": "y2"
          }
         ],
         "name": "11"
        },
        {
         "data": [
          {
           "hovertemplate": "data_type=measured<br>n_steps=12<br>x_position=%{y}<extra></extra>",
           "ids": [
            "measured"
           ],
           "legendgroup": "measured",
           "marker": {
            "color": "#636efa",
            "symbol": "circle"
           },
           "mode": "markers",
           "name": "measured",
           "orientation": "v",
           "showlegend": true,
           "type": "scatter",
           "x": [
            -0.04593739052711009
           ],
           "xaxis": "x",
           "y": [
            -0.04593739052711009
           ],
           "yaxis": "y"
          },
          {
           "hovertemplate": "data_type=estimated<br>n_steps=12<br>x_position=%{y}<extra></extra>",
           "ids": [
            "estimated"
           ],
           "legendgroup": "estimated",
           "marker": {
            "color": "#EF553B",
            "symbol": "circle"
           },
           "mode": "markers",
           "name": "estimated",
           "orientation": "v",
           "showlegend": true,
           "type": "scatter",
           "x": [
            0.12444730948667433
           ],
           "xaxis": "x2",
           "y": [
            0.12444730948667433
           ],
           "yaxis": "y2"
          }
         ],
         "name": "12"
        },
        {
         "data": [
          {
           "hovertemplate": "data_type=measured<br>n_steps=13<br>x_position=%{y}<extra></extra>",
           "ids": [
            "measured"
           ],
           "legendgroup": "measured",
           "marker": {
            "color": "#636efa",
            "symbol": "circle"
           },
           "mode": "markers",
           "name": "measured",
           "orientation": "v",
           "showlegend": true,
           "type": "scatter",
           "x": [
            -0.4437676538081774
           ],
           "xaxis": "x",
           "y": [
            -0.4437676538081774
           ],
           "yaxis": "y"
          },
          {
           "hovertemplate": "data_type=estimated<br>n_steps=13<br>x_position=%{y}<extra></extra>",
           "ids": [
            "estimated"
           ],
           "legendgroup": "estimated",
           "marker": {
            "color": "#EF553B",
            "symbol": "circle"
           },
           "mode": "markers",
           "name": "estimated",
           "orientation": "v",
           "showlegend": true,
           "type": "scatter",
           "x": [
            0.0779672502040071
           ],
           "xaxis": "x2",
           "y": [
            0.0779672502040071
           ],
           "yaxis": "y2"
          }
         ],
         "name": "13"
        },
        {
         "data": [
          {
           "hovertemplate": "data_type=measured<br>n_steps=14<br>x_position=%{y}<extra></extra>",
           "ids": [
            "measured"
           ],
           "legendgroup": "measured",
           "marker": {
            "color": "#636efa",
            "symbol": "circle"
           },
           "mode": "markers",
           "name": "measured",
           "orientation": "v",
           "showlegend": true,
           "type": "scatter",
           "x": [
            0.10251836955607653
           ],
           "xaxis": "x",
           "y": [
            0.10251836955607653
           ],
           "yaxis": "y"
          },
          {
           "hovertemplate": "data_type=estimated<br>n_steps=14<br>x_position=%{y}<extra></extra>",
           "ids": [
            "estimated"
           ],
           "legendgroup": "estimated",
           "marker": {
            "color": "#EF553B",
            "symbol": "circle"
           },
           "mode": "markers",
           "name": "estimated",
           "orientation": "v",
           "showlegend": true,
           "type": "scatter",
           "x": [
            0.08061552628497075
           ],
           "xaxis": "x2",
           "y": [
            0.08061552628497075
           ],
           "yaxis": "y2"
          }
         ],
         "name": "14"
        },
        {
         "data": [
          {
           "hovertemplate": "data_type=measured<br>n_steps=15<br>x_position=%{y}<extra></extra>",
           "ids": [
            "measured"
           ],
           "legendgroup": "measured",
           "marker": {
            "color": "#636efa",
            "symbol": "circle"
           },
           "mode": "markers",
           "name": "measured",
           "orientation": "v",
           "showlegend": true,
           "type": "scatter",
           "x": [
            -0.522025795662347
           ],
           "xaxis": "x",
           "y": [
            -0.522025795662347
           ],
           "yaxis": "y"
          },
          {
           "hovertemplate": "data_type=estimated<br>n_steps=15<br>x_position=%{y}<extra></extra>",
           "ids": [
            "estimated"
           ],
           "legendgroup": "estimated",
           "marker": {
            "color": "#EF553B",
            "symbol": "circle"
           },
           "mode": "markers",
           "name": "estimated",
           "orientation": "v",
           "showlegend": true,
           "type": "scatter",
           "x": [
            0.03856880581056355
           ],
           "xaxis": "x2",
           "y": [
            0.03856880581056355
           ],
           "yaxis": "y2"
          }
         ],
         "name": "15"
        },
        {
         "data": [
          {
           "hovertemplate": "data_type=measured<br>n_steps=16<br>x_position=%{y}<extra></extra>",
           "ids": [
            "measured"
           ],
           "legendgroup": "measured",
           "marker": {
            "color": "#636efa",
            "symbol": "circle"
           },
           "mode": "markers",
           "name": "measured",
           "orientation": "v",
           "showlegend": true,
           "type": "scatter",
           "x": [
            -0.3479972750011961
           ],
           "xaxis": "x",
           "y": [
            -0.3479972750011961
           ],
           "yaxis": "y"
          },
          {
           "hovertemplate": "data_type=estimated<br>n_steps=16<br>x_position=%{y}<extra></extra>",
           "ids": [
            "estimated"
           ],
           "legendgroup": "estimated",
           "marker": {
            "color": "#EF553B",
            "symbol": "circle"
           },
           "mode": "markers",
           "name": "estimated",
           "orientation": "v",
           "showlegend": true,
           "type": "scatter",
           "x": [
            0.012171884888930288
           ],
           "xaxis": "x2",
           "y": [
            0.012171884888930288
           ],
           "yaxis": "y2"
          }
         ],
         "name": "16"
        },
        {
         "data": [
          {
           "hovertemplate": "data_type=measured<br>n_steps=17<br>x_position=%{y}<extra></extra>",
           "ids": [
            "measured"
           ],
           "legendgroup": "measured",
           "marker": {
            "color": "#636efa",
            "symbol": "circle"
           },
           "mode": "markers",
           "name": "measured",
           "orientation": "v",
           "showlegend": true,
           "type": "scatter",
           "x": [
            0.38727833182856325
           ],
           "xaxis": "x",
           "y": [
            0.38727833182856325
           ],
           "yaxis": "y"
          },
          {
           "hovertemplate": "data_type=estimated<br>n_steps=17<br>x_position=%{y}<extra></extra>",
           "ids": [
            "estimated"
           ],
           "legendgroup": "estimated",
           "marker": {
            "color": "#EF553B",
            "symbol": "circle"
           },
           "mode": "markers",
           "name": "estimated",
           "orientation": "v",
           "showlegend": true,
           "type": "scatter",
           "x": [
            0.03426742929238801
           ],
           "xaxis": "x2",
           "y": [
            0.03426742929238801
           ],
           "yaxis": "y2"
          }
         ],
         "name": "17"
        },
        {
         "data": [
          {
           "hovertemplate": "data_type=measured<br>n_steps=18<br>x_position=%{y}<extra></extra>",
           "ids": [
            "measured"
           ],
           "legendgroup": "measured",
           "marker": {
            "color": "#636efa",
            "symbol": "circle"
           },
           "mode": "markers",
           "name": "measured",
           "orientation": "v",
           "showlegend": true,
           "type": "scatter",
           "x": [
            0.3885630024740787
           ],
           "xaxis": "x",
           "y": [
            0.3885630024740787
           ],
           "yaxis": "y"
          },
          {
           "hovertemplate": "data_type=estimated<br>n_steps=18<br>x_position=%{y}<extra></extra>",
           "ids": [
            "estimated"
           ],
           "legendgroup": "estimated",
           "marker": {
            "color": "#EF553B",
            "symbol": "circle"
           },
           "mode": "markers",
           "name": "estimated",
           "orientation": "v",
           "showlegend": true,
           "type": "scatter",
           "x": [
            0.05366139290765582
           ],
           "xaxis": "x2",
           "y": [
            0.05366139290765582
           ],
           "yaxis": "y2"
          }
         ],
         "name": "18"
        },
        {
         "data": [
          {
           "hovertemplate": "data_type=measured<br>n_steps=19<br>x_position=%{y}<extra></extra>",
           "ids": [
            "measured"
           ],
           "legendgroup": "measured",
           "marker": {
            "color": "#636efa",
            "symbol": "circle"
           },
           "mode": "markers",
           "name": "measured",
           "orientation": "v",
           "showlegend": true,
           "type": "scatter",
           "x": [
            -0.17543094893665243
           ],
           "xaxis": "x",
           "y": [
            -0.17543094893665243
           ],
           "yaxis": "y"
          },
          {
           "hovertemplate": "data_type=estimated<br>n_steps=19<br>x_position=%{y}<extra></extra>",
           "ids": [
            "estimated"
           ],
           "legendgroup": "estimated",
           "marker": {
            "color": "#EF553B",
            "symbol": "circle"
           },
           "mode": "markers",
           "name": "estimated",
           "orientation": "v",
           "showlegend": true,
           "type": "scatter",
           "x": [
            0.04320235614724952
           ],
           "xaxis": "x2",
           "y": [
            0.04320235614724952
           ],
           "yaxis": "y2"
          }
         ],
         "name": "19"
        },
        {
         "data": [
          {
           "hovertemplate": "data_type=measured<br>n_steps=20<br>x_position=%{y}<extra></extra>",
           "ids": [
            "measured"
           ],
           "legendgroup": "measured",
           "marker": {
            "color": "#636efa",
            "symbol": "circle"
           },
           "mode": "markers",
           "name": "measured",
           "orientation": "v",
           "showlegend": true,
           "type": "scatter",
           "x": [
            0.13405414023615272
           ],
           "xaxis": "x",
           "y": [
            0.13405414023615272
           ],
           "yaxis": "y"
          },
          {
           "hovertemplate": "data_type=estimated<br>n_steps=20<br>x_position=%{y}<extra></extra>",
           "ids": [
            "estimated"
           ],
           "legendgroup": "estimated",
           "marker": {
            "color": "#EF553B",
            "symbol": "circle"
           },
           "mode": "markers",
           "name": "estimated",
           "orientation": "v",
           "showlegend": true,
           "type": "scatter",
           "x": [
            0.0479016922231049
           ],
           "xaxis": "x2",
           "y": [
            0.0479016922231049
           ],
           "yaxis": "y2"
          }
         ],
         "name": "20"
        },
        {
         "data": [
          {
           "hovertemplate": "data_type=measured<br>n_steps=21<br>x_position=%{y}<extra></extra>",
           "ids": [
            "measured"
           ],
           "legendgroup": "measured",
           "marker": {
            "color": "#636efa",
            "symbol": "circle"
           },
           "mode": "markers",
           "name": "measured",
           "orientation": "v",
           "showlegend": true,
           "type": "scatter",
           "x": [
            -0.3839764508160929
           ],
           "xaxis": "x",
           "y": [
            -0.3839764508160929
           ],
           "yaxis": "y"
          },
          {
           "hovertemplate": "data_type=estimated<br>n_steps=21<br>x_position=%{y}<extra></extra>",
           "ids": [
            "estimated"
           ],
           "legendgroup": "estimated",
           "marker": {
            "color": "#EF553B",
            "symbol": "circle"
           },
           "mode": "markers",
           "name": "estimated",
           "orientation": "v",
           "showlegend": true,
           "type": "scatter",
           "x": [
            0.027302211625789885
           ],
           "xaxis": "x2",
           "y": [
            0.027302211625789885
           ],
           "yaxis": "y2"
          }
         ],
         "name": "21"
        },
        {
         "data": [
          {
           "hovertemplate": "data_type=measured<br>n_steps=22<br>x_position=%{y}<extra></extra>",
           "ids": [
            "measured"
           ],
           "legendgroup": "measured",
           "marker": {
            "color": "#636efa",
            "symbol": "circle"
           },
           "mode": "markers",
           "name": "measured",
           "orientation": "v",
           "showlegend": true,
           "type": "scatter",
           "x": [
            0.41915356860816994
           ],
           "xaxis": "x",
           "y": [
            0.41915356860816994
           ],
           "yaxis": "y"
          },
          {
           "hovertemplate": "data_type=estimated<br>n_steps=22<br>x_position=%{y}<extra></extra>",
           "ids": [
            "estimated"
           ],
           "legendgroup": "estimated",
           "marker": {
            "color": "#EF553B",
            "symbol": "circle"
           },
           "mode": "markers",
           "name": "estimated",
           "orientation": "v",
           "showlegend": true,
           "type": "scatter",
           "x": [
            0.04703830467281533
           ],
           "xaxis": "x2",
           "y": [
            0.04703830467281533
           ],
           "yaxis": "y2"
          }
         ],
         "name": "22"
        },
        {
         "data": [
          {
           "hovertemplate": "data_type=measured<br>n_steps=23<br>x_position=%{y}<extra></extra>",
           "ids": [
            "measured"
           ],
           "legendgroup": "measured",
           "marker": {
            "color": "#636efa",
            "symbol": "circle"
           },
           "mode": "markers",
           "name": "measured",
           "orientation": "v",
           "showlegend": true,
           "type": "scatter",
           "x": [
            0.3245474193921225
           ],
           "xaxis": "x",
           "y": [
            0.3245474193921225
           ],
           "yaxis": "y"
          },
          {
           "hovertemplate": "data_type=estimated<br>n_steps=23<br>x_position=%{y}<extra></extra>",
           "ids": [
            "estimated"
           ],
           "legendgroup": "estimated",
           "marker": {
            "color": "#EF553B",
            "symbol": "circle"
           },
           "mode": "markers",
           "name": "estimated",
           "orientation": "v",
           "showlegend": true,
           "type": "scatter",
           "x": [
            0.06133877499682135
           ],
           "xaxis": "x2",
           "y": [
            0.06133877499682135
           ],
           "yaxis": "y2"
          }
         ],
         "name": "23"
        },
        {
         "data": [
          {
           "hovertemplate": "data_type=measured<br>n_steps=24<br>x_position=%{y}<extra></extra>",
           "ids": [
            "measured"
           ],
           "legendgroup": "measured",
           "marker": {
            "color": "#636efa",
            "symbol": "circle"
           },
           "mode": "markers",
           "name": "measured",
           "orientation": "v",
           "showlegend": true,
           "type": "scatter",
           "x": [
            0.13649494711006918
           ],
           "xaxis": "x",
           "y": [
            0.13649494711006918
           ],
           "yaxis": "y"
          },
          {
           "hovertemplate": "data_type=estimated<br>n_steps=24<br>x_position=%{y}<extra></extra>",
           "ids": [
            "estimated"
           ],
           "legendgroup": "estimated",
           "marker": {
            "color": "#EF553B",
            "symbol": "circle"
           },
           "mode": "markers",
           "name": "estimated",
           "orientation": "v",
           "showlegend": true,
           "type": "scatter",
           "x": [
            0.06221283334846015
           ],
           "xaxis": "x2",
           "y": [
            0.06221283334846015
           ],
           "yaxis": "y2"
          }
         ],
         "name": "24"
        },
        {
         "data": [
          {
           "hovertemplate": "data_type=measured<br>n_steps=25<br>x_position=%{y}<extra></extra>",
           "ids": [
            "measured"
           ],
           "legendgroup": "measured",
           "marker": {
            "color": "#636efa",
            "symbol": "circle"
           },
           "mode": "markers",
           "name": "measured",
           "orientation": "v",
           "showlegend": true,
           "type": "scatter",
           "x": [
            0.7006753921544777
           ],
           "xaxis": "x",
           "y": [
            0.7006753921544777
           ],
           "yaxis": "y"
          },
          {
           "hovertemplate": "data_type=estimated<br>n_steps=25<br>x_position=%{y}<extra></extra>",
           "ids": [
            "estimated"
           ],
           "legendgroup": "estimated",
           "marker": {
            "color": "#EF553B",
            "symbol": "circle"
           },
           "mode": "markers",
           "name": "estimated",
           "orientation": "v",
           "showlegend": true,
           "type": "scatter",
           "x": [
            0.09016954857144033
           ],
           "xaxis": "x2",
           "y": [
            0.09016954857144033
           ],
           "yaxis": "y2"
          }
         ],
         "name": "25"
        },
        {
         "data": [
          {
           "hovertemplate": "data_type=measured<br>n_steps=26<br>x_position=%{y}<extra></extra>",
           "ids": [
            "measured"
           ],
           "legendgroup": "measured",
           "marker": {
            "color": "#636efa",
            "symbol": "circle"
           },
           "mode": "markers",
           "name": "measured",
           "orientation": "v",
           "showlegend": true,
           "type": "scatter",
           "x": [
            -0.31079205685930866
           ],
           "xaxis": "x",
           "y": [
            -0.31079205685930866
           ],
           "yaxis": "y"
          },
          {
           "hovertemplate": "data_type=estimated<br>n_steps=26<br>x_position=%{y}<extra></extra>",
           "ids": [
            "estimated"
           ],
           "legendgroup": "estimated",
           "marker": {
            "color": "#EF553B",
            "symbol": "circle"
           },
           "mode": "markers",
           "name": "estimated",
           "orientation": "v",
           "showlegend": true,
           "type": "scatter",
           "x": [
            0.07500465476246095
           ],
           "xaxis": "x2",
           "y": [
            0.07500465476246095
           ],
           "yaxis": "y2"
          }
         ],
         "name": "26"
        },
        {
         "data": [
          {
           "hovertemplate": "data_type=measured<br>n_steps=27<br>x_position=%{y}<extra></extra>",
           "ids": [
            "measured"
           ],
           "legendgroup": "measured",
           "marker": {
            "color": "#636efa",
            "symbol": "circle"
           },
           "mode": "markers",
           "name": "measured",
           "orientation": "v",
           "showlegend": true,
           "type": "scatter",
           "x": [
            -0.408719534721467
           ],
           "xaxis": "x",
           "y": [
            -0.408719534721467
           ],
           "yaxis": "y"
          },
          {
           "hovertemplate": "data_type=estimated<br>n_steps=27<br>x_position=%{y}<extra></extra>",
           "ids": [
            "estimated"
           ],
           "legendgroup": "estimated",
           "marker": {
            "color": "#EF553B",
            "symbol": "circle"
           },
           "mode": "markers",
           "name": "estimated",
           "orientation": "v",
           "showlegend": true,
           "type": "scatter",
           "x": [
            0.0555269456351722
           ],
           "xaxis": "x2",
           "y": [
            0.0555269456351722
           ],
           "yaxis": "y2"
          }
         ],
         "name": "27"
        },
        {
         "data": [
          {
           "hovertemplate": "data_type=measured<br>n_steps=28<br>x_position=%{y}<extra></extra>",
           "ids": [
            "measured"
           ],
           "legendgroup": "measured",
           "marker": {
            "color": "#636efa",
            "symbol": "circle"
           },
           "mode": "markers",
           "name": "measured",
           "orientation": "v",
           "showlegend": true,
           "type": "scatter",
           "x": [
            0.10222082867816698
           ],
           "xaxis": "x",
           "y": [
            0.10222082867816698
           ],
           "yaxis": "y"
          },
          {
           "hovertemplate": "data_type=estimated<br>n_steps=28<br>x_position=%{y}<extra></extra>",
           "ids": [
            "estimated"
           ],
           "legendgroup": "estimated",
           "marker": {
            "color": "#EF553B",
            "symbol": "circle"
           },
           "mode": "markers",
           "name": "estimated",
           "orientation": "v",
           "showlegend": true,
           "type": "scatter",
           "x": [
            0.05767981777968393
           ],
           "xaxis": "x2",
           "y": [
            0.05767981777968393
           ],
           "yaxis": "y2"
          }
         ],
         "name": "28"
        },
        {
         "data": [
          {
           "hovertemplate": "data_type=measured<br>n_steps=29<br>x_position=%{y}<extra></extra>",
           "ids": [
            "measured"
           ],
           "legendgroup": "measured",
           "marker": {
            "color": "#636efa",
            "symbol": "circle"
           },
           "mode": "markers",
           "name": "measured",
           "orientation": "v",
           "showlegend": true,
           "type": "scatter",
           "x": [
            -0.04542409826739829
           ],
           "xaxis": "x",
           "y": [
            -0.04542409826739829
           ],
           "yaxis": "y"
          },
          {
           "hovertemplate": "data_type=estimated<br>n_steps=29<br>x_position=%{y}<extra></extra>",
           "ids": [
            "estimated"
           ],
           "legendgroup": "estimated",
           "marker": {
            "color": "#EF553B",
            "symbol": "circle"
           },
           "mode": "markers",
           "name": "estimated",
           "orientation": "v",
           "showlegend": true,
           "type": "scatter",
           "x": [
            0.05387155585051951
           ],
           "xaxis": "x2",
           "y": [
            0.05387155585051951
           ],
           "yaxis": "y2"
          }
         ],
         "name": "29"
        },
        {
         "data": [
          {
           "hovertemplate": "data_type=measured<br>n_steps=30<br>x_position=%{y}<extra></extra>",
           "ids": [
            "measured"
           ],
           "legendgroup": "measured",
           "marker": {
            "color": "#636efa",
            "symbol": "circle"
           },
           "mode": "markers",
           "name": "measured",
           "orientation": "v",
           "showlegend": true,
           "type": "scatter",
           "x": [
            0.11988542948390504
           ],
           "xaxis": "x",
           "y": [
            0.11988542948390504
           ],
           "yaxis": "y"
          },
          {
           "hovertemplate": "data_type=estimated<br>n_steps=30<br>x_position=%{y}<extra></extra>",
           "ids": [
            "estimated"
           ],
           "legendgroup": "estimated",
           "marker": {
            "color": "#EF553B",
            "symbol": "circle"
           },
           "mode": "markers",
           "name": "estimated",
           "orientation": "v",
           "showlegend": true,
           "type": "scatter",
           "x": [
            0.055856412650053706
           ],
           "xaxis": "x2",
           "y": [
            0.055856412650053706
           ],
           "yaxis": "y2"
          }
         ],
         "name": "30"
        },
        {
         "data": [
          {
           "hovertemplate": "data_type=measured<br>n_steps=31<br>x_position=%{y}<extra></extra>",
           "ids": [
            "measured"
           ],
           "legendgroup": "measured",
           "marker": {
            "color": "#636efa",
            "symbol": "circle"
           },
           "mode": "markers",
           "name": "measured",
           "orientation": "v",
           "showlegend": true,
           "type": "scatter",
           "x": [
            0.5647892904553329
           ],
           "xaxis": "x",
           "y": [
            0.5647892904553329
           ],
           "yaxis": "y"
          },
          {
           "hovertemplate": "data_type=estimated<br>n_steps=31<br>x_position=%{y}<extra></extra>",
           "ids": [
            "estimated"
           ],
           "legendgroup": "estimated",
           "marker": {
            "color": "#EF553B",
            "symbol": "circle"
           },
           "mode": "markers",
           "name": "estimated",
           "orientation": "v",
           "showlegend": true,
           "type": "scatter",
           "x": [
            0.07346498785883337
           ],
           "xaxis": "x2",
           "y": [
            0.07346498785883337
           ],
           "yaxis": "y2"
          }
         ],
         "name": "31"
        },
        {
         "data": [
          {
           "hovertemplate": "data_type=measured<br>n_steps=32<br>x_position=%{y}<extra></extra>",
           "ids": [
            "measured"
           ],
           "legendgroup": "measured",
           "marker": {
            "color": "#636efa",
            "symbol": "circle"
           },
           "mode": "markers",
           "name": "measured",
           "orientation": "v",
           "showlegend": true,
           "type": "scatter",
           "x": [
            -0.25235571171707233
           ],
           "xaxis": "x",
           "y": [
            -0.25235571171707233
           ],
           "yaxis": "y"
          },
          {
           "hovertemplate": "data_type=estimated<br>n_steps=32<br>x_position=%{y}<extra></extra>",
           "ids": [
            "estimated"
           ],
           "legendgroup": "estimated",
           "marker": {
            "color": "#EF553B",
            "symbol": "circle"
           },
           "mode": "markers",
           "name": "estimated",
           "orientation": "v",
           "showlegend": true,
           "type": "scatter",
           "x": [
            0.06250965458686766
           ],
           "xaxis": "x2",
           "y": [
            0.06250965458686766
           ],
           "yaxis": "y2"
          }
         ],
         "name": "32"
        },
        {
         "data": [
          {
           "hovertemplate": "data_type=measured<br>n_steps=33<br>x_position=%{y}<extra></extra>",
           "ids": [
            "measured"
           ],
           "legendgroup": "measured",
           "marker": {
            "color": "#636efa",
            "symbol": "circle"
           },
           "mode": "markers",
           "name": "measured",
           "orientation": "v",
           "showlegend": true,
           "type": "scatter",
           "x": [
            -1.3109866653268814
           ],
           "xaxis": "x",
           "y": [
            -1.3109866653268814
           ],
           "yaxis": "y"
          },
          {
           "hovertemplate": "data_type=estimated<br>n_steps=33<br>x_position=%{y}<extra></extra>",
           "ids": [
            "estimated"
           ],
           "legendgroup": "estimated",
           "marker": {
            "color": "#EF553B",
            "symbol": "circle"
           },
           "mode": "markers",
           "name": "estimated",
           "orientation": "v",
           "showlegend": true,
           "type": "scatter",
           "x": [
            0.014664790286948289
           ],
           "xaxis": "x2",
           "y": [
            0.014664790286948289
           ],
           "yaxis": "y2"
          }
         ],
         "name": "33"
        },
        {
         "data": [
          {
           "hovertemplate": "data_type=measured<br>n_steps=34<br>x_position=%{y}<extra></extra>",
           "ids": [
            "measured"
           ],
           "legendgroup": "measured",
           "marker": {
            "color": "#636efa",
            "symbol": "circle"
           },
           "mode": "markers",
           "name": "measured",
           "orientation": "v",
           "showlegend": true,
           "type": "scatter",
           "x": [
            -0.16614571648248794
           ],
           "xaxis": "x",
           "y": [
            -0.16614571648248794
           ],
           "yaxis": "y"
          },
          {
           "hovertemplate": "data_type=estimated<br>n_steps=34<br>x_position=%{y}<extra></extra>",
           "ids": [
            "estimated"
           ],
           "legendgroup": "estimated",
           "marker": {
            "color": "#EF553B",
            "symbol": "circle"
           },
           "mode": "markers",
           "name": "estimated",
           "orientation": "v",
           "showlegend": true,
           "type": "scatter",
           "x": [
            0.005988417897122277
           ],
           "xaxis": "x2",
           "y": [
            0.005988417897122277
           ],
           "yaxis": "y2"
          }
         ],
         "name": "34"
        },
        {
         "data": [
          {
           "hovertemplate": "data_type=measured<br>n_steps=35<br>x_position=%{y}<extra></extra>",
           "ids": [
            "measured"
           ],
           "legendgroup": "measured",
           "marker": {
            "color": "#636efa",
            "symbol": "circle"
           },
           "mode": "markers",
           "name": "measured",
           "orientation": "v",
           "showlegend": true,
           "type": "scatter",
           "x": [
            -0.6921110052737336
           ],
           "xaxis": "x",
           "y": [
            -0.6921110052737336
           ],
           "yaxis": "y"
          },
          {
           "hovertemplate": "data_type=estimated<br>n_steps=35<br>x_position=%{y}<extra></extra>",
           "ids": [
            "estimated"
           ],
           "legendgroup": "estimated",
           "marker": {
            "color": "#EF553B",
            "symbol": "circle"
           },
           "mode": "markers",
           "name": "estimated",
           "orientation": "v",
           "showlegend": true,
           "type": "scatter",
           "x": [
            -0.017072982146120477
           ],
           "xaxis": "x2",
           "y": [
            -0.017072982146120477
           ],
           "yaxis": "y2"
          }
         ],
         "name": "35"
        },
        {
         "data": [
          {
           "hovertemplate": "data_type=measured<br>n_steps=36<br>x_position=%{y}<extra></extra>",
           "ids": [
            "measured"
           ],
           "legendgroup": "measured",
           "marker": {
            "color": "#636efa",
            "symbol": "circle"
           },
           "mode": "markers",
           "name": "measured",
           "orientation": "v",
           "showlegend": true,
           "type": "scatter",
           "x": [
            -0.6991318603355574
           ],
           "xaxis": "x",
           "y": [
            -0.6991318603355574
           ],
           "yaxis": "y"
          },
          {
           "hovertemplate": "data_type=estimated<br>n_steps=36<br>x_position=%{y}<extra></extra>",
           "ids": [
            "estimated"
           ],
           "legendgroup": "estimated",
           "marker": {
            "color": "#EF553B",
            "symbol": "circle"
           },
           "mode": "markers",
           "name": "estimated",
           "orientation": "v",
           "showlegend": true,
           "type": "scatter",
           "x": [
            -0.039838938585990885
           ],
           "xaxis": "x2",
           "y": [
            -0.039838938585990885
           ],
           "yaxis": "y2"
          }
         ],
         "name": "36"
        },
        {
         "data": [
          {
           "hovertemplate": "data_type=measured<br>n_steps=37<br>x_position=%{y}<extra></extra>",
           "ids": [
            "measured"
           ],
           "legendgroup": "measured",
           "marker": {
            "color": "#636efa",
            "symbol": "circle"
           },
           "mode": "markers",
           "name": "measured",
           "orientation": "v",
           "showlegend": true,
           "type": "scatter",
           "x": [
            0.05194634479202548
           ],
           "xaxis": "x",
           "y": [
            0.05194634479202548
           ],
           "yaxis": "y"
          },
          {
           "hovertemplate": "data_type=estimated<br>n_steps=37<br>x_position=%{y}<extra></extra>",
           "ids": [
            "estimated"
           ],
           "legendgroup": "estimated",
           "marker": {
            "color": "#EF553B",
            "symbol": "circle"
           },
           "mode": "markers",
           "name": "estimated",
           "orientation": "v",
           "showlegend": true,
           "type": "scatter",
           "x": [
            -0.0348622109273465
           ],
           "xaxis": "x2",
           "y": [
            -0.0348622109273465
           ],
           "yaxis": "y2"
          }
         ],
         "name": "37"
        },
        {
         "data": [
          {
           "hovertemplate": "data_type=measured<br>n_steps=38<br>x_position=%{y}<extra></extra>",
           "ids": [
            "measured"
           ],
           "legendgroup": "measured",
           "marker": {
            "color": "#636efa",
            "symbol": "circle"
           },
           "mode": "markers",
           "name": "measured",
           "orientation": "v",
           "showlegend": true,
           "type": "scatter",
           "x": [
            -0.2986281575313543
           ],
           "xaxis": "x",
           "y": [
            -0.2986281575313543
           ],
           "yaxis": "y"
          },
          {
           "hovertemplate": "data_type=estimated<br>n_steps=38<br>x_position=%{y}<extra></extra>",
           "ids": [
            "estimated"
           ],
           "legendgroup": "estimated",
           "marker": {
            "color": "#EF553B",
            "symbol": "circle"
           },
           "mode": "markers",
           "name": "estimated",
           "orientation": "v",
           "showlegend": true,
           "type": "scatter",
           "x": [
            -0.04621992388915856
           ],
           "xaxis": "x2",
           "y": [
            -0.04621992388915856
           ],
           "yaxis": "y2"
          }
         ],
         "name": "38"
        },
        {
         "data": [
          {
           "hovertemplate": "data_type=measured<br>n_steps=39<br>x_position=%{y}<extra></extra>",
           "ids": [
            "measured"
           ],
           "legendgroup": "measured",
           "marker": {
            "color": "#636efa",
            "symbol": "circle"
           },
           "mode": "markers",
           "name": "measured",
           "orientation": "v",
           "showlegend": true,
           "type": "scatter",
           "x": [
            0.102458050120598
           ],
           "xaxis": "x",
           "y": [
            0.102458050120598
           ],
           "yaxis": "y"
          },
          {
           "hovertemplate": "data_type=estimated<br>n_steps=39<br>x_position=%{y}<extra></extra>",
           "ids": [
            "estimated"
           ],
           "legendgroup": "estimated",
           "marker": {
            "color": "#EF553B",
            "symbol": "circle"
           },
           "mode": "markers",
           "name": "estimated",
           "orientation": "v",
           "showlegend": true,
           "type": "scatter",
           "x": [
            -0.03797081772965196
           ],
           "xaxis": "x2",
           "y": [
            -0.03797081772965196
           ],
           "yaxis": "y2"
          }
         ],
         "name": "39"
        },
        {
         "data": [
          {
           "hovertemplate": "data_type=measured<br>n_steps=40<br>x_position=%{y}<extra></extra>",
           "ids": [
            "measured"
           ],
           "legendgroup": "measured",
           "marker": {
            "color": "#636efa",
            "symbol": "circle"
           },
           "mode": "markers",
           "name": "measured",
           "orientation": "v",
           "showlegend": true,
           "type": "scatter",
           "x": [
            1.3281378047376942
           ],
           "xaxis": "x",
           "y": [
            1.3281378047376942
           ],
           "yaxis": "y"
          },
          {
           "hovertemplate": "data_type=estimated<br>n_steps=40<br>x_position=%{y}<extra></extra>",
           "ids": [
            "estimated"
           ],
           "legendgroup": "estimated",
           "marker": {
            "color": "#EF553B",
            "symbol": "circle"
           },
           "mode": "markers",
           "name": "estimated",
           "orientation": "v",
           "showlegend": true,
           "type": "scatter",
           "x": [
            0.004262568286867205
           ],
           "xaxis": "x2",
           "y": [
            0.004262568286867205
           ],
           "yaxis": "y2"
          }
         ],
         "name": "40"
        },
        {
         "data": [
          {
           "hovertemplate": "data_type=measured<br>n_steps=41<br>x_position=%{y}<extra></extra>",
           "ids": [
            "measured"
           ],
           "legendgroup": "measured",
           "marker": {
            "color": "#636efa",
            "symbol": "circle"
           },
           "mode": "markers",
           "name": "measured",
           "orientation": "v",
           "showlegend": true,
           "type": "scatter",
           "x": [
            0.105625060694382
           ],
           "xaxis": "x",
           "y": [
            0.105625060694382
           ],
           "yaxis": "y"
          },
          {
           "hovertemplate": "data_type=estimated<br>n_steps=41<br>x_position=%{y}<extra></extra>",
           "ids": [
            "estimated"
           ],
           "legendgroup": "estimated",
           "marker": {
            "color": "#EF553B",
            "symbol": "circle"
           },
           "mode": "markers",
           "name": "estimated",
           "orientation": "v",
           "showlegend": true,
           "type": "scatter",
           "x": [
            0.003797421954494815
           ],
           "xaxis": "x2",
           "y": [
            0.003797421954494815
           ],
           "yaxis": "y2"
          }
         ],
         "name": "41"
        },
        {
         "data": [
          {
           "hovertemplate": "data_type=measured<br>n_steps=42<br>x_position=%{y}<extra></extra>",
           "ids": [
            "measured"
           ],
           "legendgroup": "measured",
           "marker": {
            "color": "#636efa",
            "symbol": "circle"
           },
           "mode": "markers",
           "name": "measured",
           "orientation": "v",
           "showlegend": true,
           "type": "scatter",
           "x": [
            -0.05758472934211215
           ],
           "xaxis": "x",
           "y": [
            -0.05758472934211215
           ],
           "yaxis": "y"
          },
          {
           "hovertemplate": "data_type=estimated<br>n_steps=42<br>x_position=%{y}<extra></extra>",
           "ids": [
            "estimated"
           ],
           "legendgroup": "estimated",
           "marker": {
            "color": "#EF553B",
            "symbol": "circle"
           },
           "mode": "markers",
           "name": "estimated",
           "orientation": "v",
           "showlegend": true,
           "type": "scatter",
           "x": [
            0.0003383801249741375
           ],
           "xaxis": "x2",
           "y": [
            0.0003383801249741375
           ],
           "yaxis": "y2"
          }
         ],
         "name": "42"
        },
        {
         "data": [
          {
           "hovertemplate": "data_type=measured<br>n_steps=43<br>x_position=%{y}<extra></extra>",
           "ids": [
            "measured"
           ],
           "legendgroup": "measured",
           "marker": {
            "color": "#636efa",
            "symbol": "circle"
           },
           "mode": "markers",
           "name": "measured",
           "orientation": "v",
           "showlegend": true,
           "type": "scatter",
           "x": [
            -0.028423895412325623
           ],
           "xaxis": "x",
           "y": [
            -0.028423895412325623
           ],
           "yaxis": "y"
          },
          {
           "hovertemplate": "data_type=estimated<br>n_steps=43<br>x_position=%{y}<extra></extra>",
           "ids": [
            "estimated"
           ],
           "legendgroup": "estimated",
           "marker": {
            "color": "#EF553B",
            "symbol": "circle"
           },
           "mode": "markers",
           "name": "estimated",
           "orientation": "v",
           "showlegend": true,
           "type": "scatter",
           "x": [
            -0.004314382610720318
           ],
           "xaxis": "x2",
           "y": [
            -0.004314382610720318
           ],
           "yaxis": "y2"
          }
         ],
         "name": "43"
        },
        {
         "data": [
          {
           "hovertemplate": "data_type=measured<br>n_steps=44<br>x_position=%{y}<extra></extra>",
           "ids": [
            "measured"
           ],
           "legendgroup": "measured",
           "marker": {
            "color": "#636efa",
            "symbol": "circle"
           },
           "mode": "markers",
           "name": "measured",
           "orientation": "v",
           "showlegend": true,
           "type": "scatter",
           "x": [
            0.08543775082825016
           ],
           "xaxis": "x",
           "y": [
            0.08543775082825016
           ],
           "yaxis": "y"
          },
          {
           "hovertemplate": "data_type=estimated<br>n_steps=44<br>x_position=%{y}<extra></extra>",
           "ids": [
            "estimated"
           ],
           "legendgroup": "estimated",
           "marker": {
            "color": "#EF553B",
            "symbol": "circle"
           },
           "mode": "markers",
           "name": "estimated",
           "orientation": "v",
           "showlegend": true,
           "type": "scatter",
           "x": [
            -0.0005025897699716102
           ],
           "xaxis": "x2",
           "y": [
            -0.0005025897699716102
           ],
           "yaxis": "y2"
          }
         ],
         "name": "44"
        },
        {
         "data": [
          {
           "hovertemplate": "data_type=measured<br>n_steps=45<br>x_position=%{y}<extra></extra>",
           "ids": [
            "measured"
           ],
           "legendgroup": "measured",
           "marker": {
            "color": "#636efa",
            "symbol": "circle"
           },
           "mode": "markers",
           "name": "measured",
           "orientation": "v",
           "showlegend": true,
           "type": "scatter",
           "x": [
            -0.44812427943679883
           ],
           "xaxis": "x",
           "y": [
            -0.44812427943679883
           ],
           "yaxis": "y"
          },
          {
           "hovertemplate": "data_type=estimated<br>n_steps=45<br>x_position=%{y}<extra></extra>",
           "ids": [
            "estimated"
           ],
           "legendgroup": "estimated",
           "marker": {
            "color": "#EF553B",
            "symbol": "circle"
           },
           "mode": "markers",
           "name": "estimated",
           "orientation": "v",
           "showlegend": true,
           "type": "scatter",
           "x": [
            -0.012186245507737156
           ],
           "xaxis": "x2",
           "y": [
            -0.012186245507737156
           ],
           "yaxis": "y2"
          }
         ],
         "name": "45"
        },
        {
         "data": [
          {
           "hovertemplate": "data_type=measured<br>n_steps=46<br>x_position=%{y}<extra></extra>",
           "ids": [
            "measured"
           ],
           "legendgroup": "measured",
           "marker": {
            "color": "#636efa",
            "symbol": "circle"
           },
           "mode": "markers",
           "name": "measured",
           "orientation": "v",
           "showlegend": true,
           "type": "scatter",
           "x": [
            0.05106091064293335
           ],
           "xaxis": "x",
           "y": [
            0.05106091064293335
           ],
           "yaxis": "y"
          },
          {
           "hovertemplate": "data_type=estimated<br>n_steps=46<br>x_position=%{y}<extra></extra>",
           "ids": [
            "estimated"
           ],
           "legendgroup": "estimated",
           "marker": {
            "color": "#EF553B",
            "symbol": "circle"
           },
           "mode": "markers",
           "name": "estimated",
           "orientation": "v",
           "showlegend": true,
           "type": "scatter",
           "x": [
            -0.010381082576092193
           ],
           "xaxis": "x2",
           "y": [
            -0.010381082576092193
           ],
           "yaxis": "y2"
          }
         ],
         "name": "46"
        },
        {
         "data": [
          {
           "hovertemplate": "data_type=measured<br>n_steps=47<br>x_position=%{y}<extra></extra>",
           "ids": [
            "measured"
           ],
           "legendgroup": "measured",
           "marker": {
            "color": "#636efa",
            "symbol": "circle"
           },
           "mode": "markers",
           "name": "measured",
           "orientation": "v",
           "showlegend": true,
           "type": "scatter",
           "x": [
            0.9045351591995927
           ],
           "xaxis": "x",
           "y": [
            0.9045351591995927
           ],
           "yaxis": "y"
          },
          {
           "hovertemplate": "data_type=estimated<br>n_steps=47<br>x_position=%{y}<extra></extra>",
           "ids": [
            "estimated"
           ],
           "legendgroup": "estimated",
           "marker": {
            "color": "#EF553B",
            "symbol": "circle"
           },
           "mode": "markers",
           "name": "estimated",
           "orientation": "v",
           "showlegend": true,
           "type": "scatter",
           "x": [
            0.013329613860451948
           ],
           "xaxis": "x2",
           "y": [
            0.013329613860451948
           ],
           "yaxis": "y2"
          }
         ],
         "name": "47"
        },
        {
         "data": [
          {
           "hovertemplate": "data_type=measured<br>n_steps=48<br>x_position=%{y}<extra></extra>",
           "ids": [
            "measured"
           ],
           "legendgroup": "measured",
           "marker": {
            "color": "#636efa",
            "symbol": "circle"
           },
           "mode": "markers",
           "name": "measured",
           "orientation": "v",
           "showlegend": true,
           "type": "scatter",
           "x": [
            -0.41209362721955856
           ],
           "xaxis": "x",
           "y": [
            -0.41209362721955856
           ],
           "yaxis": "y"
          },
          {
           "hovertemplate": "data_type=estimated<br>n_steps=48<br>x_position=%{y}<extra></extra>",
           "ids": [
            "estimated"
           ],
           "legendgroup": "estimated",
           "marker": {
            "color": "#EF553B",
            "symbol": "circle"
           },
           "mode": "markers",
           "name": "estimated",
           "orientation": "v",
           "showlegend": true,
           "type": "scatter",
           "x": [
            0.0003878749023745881
           ],
           "xaxis": "x2",
           "y": [
            0.0003878749023745881
           ],
           "yaxis": "y2"
          }
         ],
         "name": "48"
        },
        {
         "data": [
          {
           "hovertemplate": "data_type=measured<br>n_steps=49<br>x_position=%{y}<extra></extra>",
           "ids": [
            "measured"
           ],
           "legendgroup": "measured",
           "marker": {
            "color": "#636efa",
            "symbol": "circle"
           },
           "mode": "markers",
           "name": "measured",
           "orientation": "v",
           "showlegend": true,
           "type": "scatter",
           "x": [
            0.3915434868442147
           ],
           "xaxis": "x",
           "y": [
            0.3915434868442147
           ],
           "yaxis": "y"
          },
          {
           "hovertemplate": "data_type=estimated<br>n_steps=49<br>x_position=%{y}<extra></extra>",
           "ids": [
            "estimated"
           ],
           "legendgroup": "estimated",
           "marker": {
            "color": "#EF553B",
            "symbol": "circle"
           },
           "mode": "markers",
           "name": "estimated",
           "orientation": "v",
           "showlegend": true,
           "type": "scatter",
           "x": [
            0.009834472204981485
           ],
           "xaxis": "x2",
           "y": [
            0.009834472204981485
           ],
           "yaxis": "y2"
          }
         ],
         "name": "49"
        }
       ],
       "layout": {
        "annotations": [
         {
          "font": {},
          "showarrow": false,
          "text": "data_type=measured",
          "x": 0.245,
          "xanchor": "center",
          "xref": "paper",
          "y": 1,
          "yanchor": "bottom",
          "yref": "paper"
         },
         {
          "font": {},
          "showarrow": false,
          "text": "data_type=estimated",
          "x": 0.755,
          "xanchor": "center",
          "xref": "paper",
          "y": 1,
          "yanchor": "bottom",
          "yref": "paper"
         }
        ],
        "legend": {
         "title": {
          "text": "data_type"
         },
         "tracegroupgap": 0
        },
        "margin": {
         "t": 60
        },
        "sliders": [
         {
          "active": 0,
          "currentvalue": {
           "prefix": "n_steps="
          },
          "len": 0.9,
          "pad": {
           "b": 10,
           "t": 60
          },
          "steps": [
           {
            "args": [
             [
              "0"
             ],
             {
              "frame": {
               "duration": 0,
               "redraw": false
              },
              "fromcurrent": true,
              "mode": "immediate",
              "transition": {
               "duration": 0,
               "easing": "linear"
              }
             }
            ],
            "label": "0",
            "method": "animate"
           },
           {
            "args": [
             [
              "1"
             ],
             {
              "frame": {
               "duration": 0,
               "redraw": false
              },
              "fromcurrent": true,
              "mode": "immediate",
              "transition": {
               "duration": 0,
               "easing": "linear"
              }
             }
            ],
            "label": "1",
            "method": "animate"
           },
           {
            "args": [
             [
              "2"
             ],
             {
              "frame": {
               "duration": 0,
               "redraw": false
              },
              "fromcurrent": true,
              "mode": "immediate",
              "transition": {
               "duration": 0,
               "easing": "linear"
              }
             }
            ],
            "label": "2",
            "method": "animate"
           },
           {
            "args": [
             [
              "3"
             ],
             {
              "frame": {
               "duration": 0,
               "redraw": false
              },
              "fromcurrent": true,
              "mode": "immediate",
              "transition": {
               "duration": 0,
               "easing": "linear"
              }
             }
            ],
            "label": "3",
            "method": "animate"
           },
           {
            "args": [
             [
              "4"
             ],
             {
              "frame": {
               "duration": 0,
               "redraw": false
              },
              "fromcurrent": true,
              "mode": "immediate",
              "transition": {
               "duration": 0,
               "easing": "linear"
              }
             }
            ],
            "label": "4",
            "method": "animate"
           },
           {
            "args": [
             [
              "5"
             ],
             {
              "frame": {
               "duration": 0,
               "redraw": false
              },
              "fromcurrent": true,
              "mode": "immediate",
              "transition": {
               "duration": 0,
               "easing": "linear"
              }
             }
            ],
            "label": "5",
            "method": "animate"
           },
           {
            "args": [
             [
              "6"
             ],
             {
              "frame": {
               "duration": 0,
               "redraw": false
              },
              "fromcurrent": true,
              "mode": "immediate",
              "transition": {
               "duration": 0,
               "easing": "linear"
              }
             }
            ],
            "label": "6",
            "method": "animate"
           },
           {
            "args": [
             [
              "7"
             ],
             {
              "frame": {
               "duration": 0,
               "redraw": false
              },
              "fromcurrent": true,
              "mode": "immediate",
              "transition": {
               "duration": 0,
               "easing": "linear"
              }
             }
            ],
            "label": "7",
            "method": "animate"
           },
           {
            "args": [
             [
              "8"
             ],
             {
              "frame": {
               "duration": 0,
               "redraw": false
              },
              "fromcurrent": true,
              "mode": "immediate",
              "transition": {
               "duration": 0,
               "easing": "linear"
              }
             }
            ],
            "label": "8",
            "method": "animate"
           },
           {
            "args": [
             [
              "9"
             ],
             {
              "frame": {
               "duration": 0,
               "redraw": false
              },
              "fromcurrent": true,
              "mode": "immediate",
              "transition": {
               "duration": 0,
               "easing": "linear"
              }
             }
            ],
            "label": "9",
            "method": "animate"
           },
           {
            "args": [
             [
              "10"
             ],
             {
              "frame": {
               "duration": 0,
               "redraw": false
              },
              "fromcurrent": true,
              "mode": "immediate",
              "transition": {
               "duration": 0,
               "easing": "linear"
              }
             }
            ],
            "label": "10",
            "method": "animate"
           },
           {
            "args": [
             [
              "11"
             ],
             {
              "frame": {
               "duration": 0,
               "redraw": false
              },
              "fromcurrent": true,
              "mode": "immediate",
              "transition": {
               "duration": 0,
               "easing": "linear"
              }
             }
            ],
            "label": "11",
            "method": "animate"
           },
           {
            "args": [
             [
              "12"
             ],
             {
              "frame": {
               "duration": 0,
               "redraw": false
              },
              "fromcurrent": true,
              "mode": "immediate",
              "transition": {
               "duration": 0,
               "easing": "linear"
              }
             }
            ],
            "label": "12",
            "method": "animate"
           },
           {
            "args": [
             [
              "13"
             ],
             {
              "frame": {
               "duration": 0,
               "redraw": false
              },
              "fromcurrent": true,
              "mode": "immediate",
              "transition": {
               "duration": 0,
               "easing": "linear"
              }
             }
            ],
            "label": "13",
            "method": "animate"
           },
           {
            "args": [
             [
              "14"
             ],
             {
              "frame": {
               "duration": 0,
               "redraw": false
              },
              "fromcurrent": true,
              "mode": "immediate",
              "transition": {
               "duration": 0,
               "easing": "linear"
              }
             }
            ],
            "label": "14",
            "method": "animate"
           },
           {
            "args": [
             [
              "15"
             ],
             {
              "frame": {
               "duration": 0,
               "redraw": false
              },
              "fromcurrent": true,
              "mode": "immediate",
              "transition": {
               "duration": 0,
               "easing": "linear"
              }
             }
            ],
            "label": "15",
            "method": "animate"
           },
           {
            "args": [
             [
              "16"
             ],
             {
              "frame": {
               "duration": 0,
               "redraw": false
              },
              "fromcurrent": true,
              "mode": "immediate",
              "transition": {
               "duration": 0,
               "easing": "linear"
              }
             }
            ],
            "label": "16",
            "method": "animate"
           },
           {
            "args": [
             [
              "17"
             ],
             {
              "frame": {
               "duration": 0,
               "redraw": false
              },
              "fromcurrent": true,
              "mode": "immediate",
              "transition": {
               "duration": 0,
               "easing": "linear"
              }
             }
            ],
            "label": "17",
            "method": "animate"
           },
           {
            "args": [
             [
              "18"
             ],
             {
              "frame": {
               "duration": 0,
               "redraw": false
              },
              "fromcurrent": true,
              "mode": "immediate",
              "transition": {
               "duration": 0,
               "easing": "linear"
              }
             }
            ],
            "label": "18",
            "method": "animate"
           },
           {
            "args": [
             [
              "19"
             ],
             {
              "frame": {
               "duration": 0,
               "redraw": false
              },
              "fromcurrent": true,
              "mode": "immediate",
              "transition": {
               "duration": 0,
               "easing": "linear"
              }
             }
            ],
            "label": "19",
            "method": "animate"
           },
           {
            "args": [
             [
              "20"
             ],
             {
              "frame": {
               "duration": 0,
               "redraw": false
              },
              "fromcurrent": true,
              "mode": "immediate",
              "transition": {
               "duration": 0,
               "easing": "linear"
              }
             }
            ],
            "label": "20",
            "method": "animate"
           },
           {
            "args": [
             [
              "21"
             ],
             {
              "frame": {
               "duration": 0,
               "redraw": false
              },
              "fromcurrent": true,
              "mode": "immediate",
              "transition": {
               "duration": 0,
               "easing": "linear"
              }
             }
            ],
            "label": "21",
            "method": "animate"
           },
           {
            "args": [
             [
              "22"
             ],
             {
              "frame": {
               "duration": 0,
               "redraw": false
              },
              "fromcurrent": true,
              "mode": "immediate",
              "transition": {
               "duration": 0,
               "easing": "linear"
              }
             }
            ],
            "label": "22",
            "method": "animate"
           },
           {
            "args": [
             [
              "23"
             ],
             {
              "frame": {
               "duration": 0,
               "redraw": false
              },
              "fromcurrent": true,
              "mode": "immediate",
              "transition": {
               "duration": 0,
               "easing": "linear"
              }
             }
            ],
            "label": "23",
            "method": "animate"
           },
           {
            "args": [
             [
              "24"
             ],
             {
              "frame": {
               "duration": 0,
               "redraw": false
              },
              "fromcurrent": true,
              "mode": "immediate",
              "transition": {
               "duration": 0,
               "easing": "linear"
              }
             }
            ],
            "label": "24",
            "method": "animate"
           },
           {
            "args": [
             [
              "25"
             ],
             {
              "frame": {
               "duration": 0,
               "redraw": false
              },
              "fromcurrent": true,
              "mode": "immediate",
              "transition": {
               "duration": 0,
               "easing": "linear"
              }
             }
            ],
            "label": "25",
            "method": "animate"
           },
           {
            "args": [
             [
              "26"
             ],
             {
              "frame": {
               "duration": 0,
               "redraw": false
              },
              "fromcurrent": true,
              "mode": "immediate",
              "transition": {
               "duration": 0,
               "easing": "linear"
              }
             }
            ],
            "label": "26",
            "method": "animate"
           },
           {
            "args": [
             [
              "27"
             ],
             {
              "frame": {
               "duration": 0,
               "redraw": false
              },
              "fromcurrent": true,
              "mode": "immediate",
              "transition": {
               "duration": 0,
               "easing": "linear"
              }
             }
            ],
            "label": "27",
            "method": "animate"
           },
           {
            "args": [
             [
              "28"
             ],
             {
              "frame": {
               "duration": 0,
               "redraw": false
              },
              "fromcurrent": true,
              "mode": "immediate",
              "transition": {
               "duration": 0,
               "easing": "linear"
              }
             }
            ],
            "label": "28",
            "method": "animate"
           },
           {
            "args": [
             [
              "29"
             ],
             {
              "frame": {
               "duration": 0,
               "redraw": false
              },
              "fromcurrent": true,
              "mode": "immediate",
              "transition": {
               "duration": 0,
               "easing": "linear"
              }
             }
            ],
            "label": "29",
            "method": "animate"
           },
           {
            "args": [
             [
              "30"
             ],
             {
              "frame": {
               "duration": 0,
               "redraw": false
              },
              "fromcurrent": true,
              "mode": "immediate",
              "transition": {
               "duration": 0,
               "easing": "linear"
              }
             }
            ],
            "label": "30",
            "method": "animate"
           },
           {
            "args": [
             [
              "31"
             ],
             {
              "frame": {
               "duration": 0,
               "redraw": false
              },
              "fromcurrent": true,
              "mode": "immediate",
              "transition": {
               "duration": 0,
               "easing": "linear"
              }
             }
            ],
            "label": "31",
            "method": "animate"
           },
           {
            "args": [
             [
              "32"
             ],
             {
              "frame": {
               "duration": 0,
               "redraw": false
              },
              "fromcurrent": true,
              "mode": "immediate",
              "transition": {
               "duration": 0,
               "easing": "linear"
              }
             }
            ],
            "label": "32",
            "method": "animate"
           },
           {
            "args": [
             [
              "33"
             ],
             {
              "frame": {
               "duration": 0,
               "redraw": false
              },
              "fromcurrent": true,
              "mode": "immediate",
              "transition": {
               "duration": 0,
               "easing": "linear"
              }
             }
            ],
            "label": "33",
            "method": "animate"
           },
           {
            "args": [
             [
              "34"
             ],
             {
              "frame": {
               "duration": 0,
               "redraw": false
              },
              "fromcurrent": true,
              "mode": "immediate",
              "transition": {
               "duration": 0,
               "easing": "linear"
              }
             }
            ],
            "label": "34",
            "method": "animate"
           },
           {
            "args": [
             [
              "35"
             ],
             {
              "frame": {
               "duration": 0,
               "redraw": false
              },
              "fromcurrent": true,
              "mode": "immediate",
              "transition": {
               "duration": 0,
               "easing": "linear"
              }
             }
            ],
            "label": "35",
            "method": "animate"
           },
           {
            "args": [
             [
              "36"
             ],
             {
              "frame": {
               "duration": 0,
               "redraw": false
              },
              "fromcurrent": true,
              "mode": "immediate",
              "transition": {
               "duration": 0,
               "easing": "linear"
              }
             }
            ],
            "label": "36",
            "method": "animate"
           },
           {
            "args": [
             [
              "37"
             ],
             {
              "frame": {
               "duration": 0,
               "redraw": false
              },
              "fromcurrent": true,
              "mode": "immediate",
              "transition": {
               "duration": 0,
               "easing": "linear"
              }
             }
            ],
            "label": "37",
            "method": "animate"
           },
           {
            "args": [
             [
              "38"
             ],
             {
              "frame": {
               "duration": 0,
               "redraw": false
              },
              "fromcurrent": true,
              "mode": "immediate",
              "transition": {
               "duration": 0,
               "easing": "linear"
              }
             }
            ],
            "label": "38",
            "method": "animate"
           },
           {
            "args": [
             [
              "39"
             ],
             {
              "frame": {
               "duration": 0,
               "redraw": false
              },
              "fromcurrent": true,
              "mode": "immediate",
              "transition": {
               "duration": 0,
               "easing": "linear"
              }
             }
            ],
            "label": "39",
            "method": "animate"
           },
           {
            "args": [
             [
              "40"
             ],
             {
              "frame": {
               "duration": 0,
               "redraw": false
              },
              "fromcurrent": true,
              "mode": "immediate",
              "transition": {
               "duration": 0,
               "easing": "linear"
              }
             }
            ],
            "label": "40",
            "method": "animate"
           },
           {
            "args": [
             [
              "41"
             ],
             {
              "frame": {
               "duration": 0,
               "redraw": false
              },
              "fromcurrent": true,
              "mode": "immediate",
              "transition": {
               "duration": 0,
               "easing": "linear"
              }
             }
            ],
            "label": "41",
            "method": "animate"
           },
           {
            "args": [
             [
              "42"
             ],
             {
              "frame": {
               "duration": 0,
               "redraw": false
              },
              "fromcurrent": true,
              "mode": "immediate",
              "transition": {
               "duration": 0,
               "easing": "linear"
              }
             }
            ],
            "label": "42",
            "method": "animate"
           },
           {
            "args": [
             [
              "43"
             ],
             {
              "frame": {
               "duration": 0,
               "redraw": false
              },
              "fromcurrent": true,
              "mode": "immediate",
              "transition": {
               "duration": 0,
               "easing": "linear"
              }
             }
            ],
            "label": "43",
            "method": "animate"
           },
           {
            "args": [
             [
              "44"
             ],
             {
              "frame": {
               "duration": 0,
               "redraw": false
              },
              "fromcurrent": true,
              "mode": "immediate",
              "transition": {
               "duration": 0,
               "easing": "linear"
              }
             }
            ],
            "label": "44",
            "method": "animate"
           },
           {
            "args": [
             [
              "45"
             ],
             {
              "frame": {
               "duration": 0,
               "redraw": false
              },
              "fromcurrent": true,
              "mode": "immediate",
              "transition": {
               "duration": 0,
               "easing": "linear"
              }
             }
            ],
            "label": "45",
            "method": "animate"
           },
           {
            "args": [
             [
              "46"
             ],
             {
              "frame": {
               "duration": 0,
               "redraw": false
              },
              "fromcurrent": true,
              "mode": "immediate",
              "transition": {
               "duration": 0,
               "easing": "linear"
              }
             }
            ],
            "label": "46",
            "method": "animate"
           },
           {
            "args": [
             [
              "47"
             ],
             {
              "frame": {
               "duration": 0,
               "redraw": false
              },
              "fromcurrent": true,
              "mode": "immediate",
              "transition": {
               "duration": 0,
               "easing": "linear"
              }
             }
            ],
            "label": "47",
            "method": "animate"
           },
           {
            "args": [
             [
              "48"
             ],
             {
              "frame": {
               "duration": 0,
               "redraw": false
              },
              "fromcurrent": true,
              "mode": "immediate",
              "transition": {
               "duration": 0,
               "easing": "linear"
              }
             }
            ],
            "label": "48",
            "method": "animate"
           },
           {
            "args": [
             [
              "49"
             ],
             {
              "frame": {
               "duration": 0,
               "redraw": false
              },
              "fromcurrent": true,
              "mode": "immediate",
              "transition": {
               "duration": 0,
               "easing": "linear"
              }
             }
            ],
            "label": "49",
            "method": "animate"
           }
          ],
          "x": 0.1,
          "xanchor": "left",
          "y": 0,
          "yanchor": "top"
         }
        ],
        "template": {
         "data": {
          "bar": [
           {
            "error_x": {
             "color": "#2a3f5f"
            },
            "error_y": {
             "color": "#2a3f5f"
            },
            "marker": {
             "line": {
              "color": "#E5ECF6",
              "width": 0.5
             }
            },
            "type": "bar"
           }
          ],
          "barpolar": [
           {
            "marker": {
             "line": {
              "color": "#E5ECF6",
              "width": 0.5
             }
            },
            "type": "barpolar"
           }
          ],
          "carpet": [
           {
            "aaxis": {
             "endlinecolor": "#2a3f5f",
             "gridcolor": "white",
             "linecolor": "white",
             "minorgridcolor": "white",
             "startlinecolor": "#2a3f5f"
            },
            "baxis": {
             "endlinecolor": "#2a3f5f",
             "gridcolor": "white",
             "linecolor": "white",
             "minorgridcolor": "white",
             "startlinecolor": "#2a3f5f"
            },
            "type": "carpet"
           }
          ],
          "choropleth": [
           {
            "colorbar": {
             "outlinewidth": 0,
             "ticks": ""
            },
            "type": "choropleth"
           }
          ],
          "contour": [
           {
            "colorbar": {
             "outlinewidth": 0,
             "ticks": ""
            },
            "colorscale": [
             [
              0,
              "#0d0887"
             ],
             [
              0.1111111111111111,
              "#46039f"
             ],
             [
              0.2222222222222222,
              "#7201a8"
             ],
             [
              0.3333333333333333,
              "#9c179e"
             ],
             [
              0.4444444444444444,
              "#bd3786"
             ],
             [
              0.5555555555555556,
              "#d8576b"
             ],
             [
              0.6666666666666666,
              "#ed7953"
             ],
             [
              0.7777777777777778,
              "#fb9f3a"
             ],
             [
              0.8888888888888888,
              "#fdca26"
             ],
             [
              1,
              "#f0f921"
             ]
            ],
            "type": "contour"
           }
          ],
          "contourcarpet": [
           {
            "colorbar": {
             "outlinewidth": 0,
             "ticks": ""
            },
            "type": "contourcarpet"
           }
          ],
          "heatmap": [
           {
            "colorbar": {
             "outlinewidth": 0,
             "ticks": ""
            },
            "colorscale": [
             [
              0,
              "#0d0887"
             ],
             [
              0.1111111111111111,
              "#46039f"
             ],
             [
              0.2222222222222222,
              "#7201a8"
             ],
             [
              0.3333333333333333,
              "#9c179e"
             ],
             [
              0.4444444444444444,
              "#bd3786"
             ],
             [
              0.5555555555555556,
              "#d8576b"
             ],
             [
              0.6666666666666666,
              "#ed7953"
             ],
             [
              0.7777777777777778,
              "#fb9f3a"
             ],
             [
              0.8888888888888888,
              "#fdca26"
             ],
             [
              1,
              "#f0f921"
             ]
            ],
            "type": "heatmap"
           }
          ],
          "heatmapgl": [
           {
            "colorbar": {
             "outlinewidth": 0,
             "ticks": ""
            },
            "colorscale": [
             [
              0,
              "#0d0887"
             ],
             [
              0.1111111111111111,
              "#46039f"
             ],
             [
              0.2222222222222222,
              "#7201a8"
             ],
             [
              0.3333333333333333,
              "#9c179e"
             ],
             [
              0.4444444444444444,
              "#bd3786"
             ],
             [
              0.5555555555555556,
              "#d8576b"
             ],
             [
              0.6666666666666666,
              "#ed7953"
             ],
             [
              0.7777777777777778,
              "#fb9f3a"
             ],
             [
              0.8888888888888888,
              "#fdca26"
             ],
             [
              1,
              "#f0f921"
             ]
            ],
            "type": "heatmapgl"
           }
          ],
          "histogram": [
           {
            "marker": {
             "colorbar": {
              "outlinewidth": 0,
              "ticks": ""
             }
            },
            "type": "histogram"
           }
          ],
          "histogram2d": [
           {
            "colorbar": {
             "outlinewidth": 0,
             "ticks": ""
            },
            "colorscale": [
             [
              0,
              "#0d0887"
             ],
             [
              0.1111111111111111,
              "#46039f"
             ],
             [
              0.2222222222222222,
              "#7201a8"
             ],
             [
              0.3333333333333333,
              "#9c179e"
             ],
             [
              0.4444444444444444,
              "#bd3786"
             ],
             [
              0.5555555555555556,
              "#d8576b"
             ],
             [
              0.6666666666666666,
              "#ed7953"
             ],
             [
              0.7777777777777778,
              "#fb9f3a"
             ],
             [
              0.8888888888888888,
              "#fdca26"
             ],
             [
              1,
              "#f0f921"
             ]
            ],
            "type": "histogram2d"
           }
          ],
          "histogram2dcontour": [
           {
            "colorbar": {
             "outlinewidth": 0,
             "ticks": ""
            },
            "colorscale": [
             [
              0,
              "#0d0887"
             ],
             [
              0.1111111111111111,
              "#46039f"
             ],
             [
              0.2222222222222222,
              "#7201a8"
             ],
             [
              0.3333333333333333,
              "#9c179e"
             ],
             [
              0.4444444444444444,
              "#bd3786"
             ],
             [
              0.5555555555555556,
              "#d8576b"
             ],
             [
              0.6666666666666666,
              "#ed7953"
             ],
             [
              0.7777777777777778,
              "#fb9f3a"
             ],
             [
              0.8888888888888888,
              "#fdca26"
             ],
             [
              1,
              "#f0f921"
             ]
            ],
            "type": "histogram2dcontour"
           }
          ],
          "mesh3d": [
           {
            "colorbar": {
             "outlinewidth": 0,
             "ticks": ""
            },
            "type": "mesh3d"
           }
          ],
          "parcoords": [
           {
            "line": {
             "colorbar": {
              "outlinewidth": 0,
              "ticks": ""
             }
            },
            "type": "parcoords"
           }
          ],
          "pie": [
           {
            "automargin": true,
            "type": "pie"
           }
          ],
          "scatter": [
           {
            "marker": {
             "colorbar": {
              "outlinewidth": 0,
              "ticks": ""
             }
            },
            "type": "scatter"
           }
          ],
          "scatter3d": [
           {
            "line": {
             "colorbar": {
              "outlinewidth": 0,
              "ticks": ""
             }
            },
            "marker": {
             "colorbar": {
              "outlinewidth": 0,
              "ticks": ""
             }
            },
            "type": "scatter3d"
           }
          ],
          "scattercarpet": [
           {
            "marker": {
             "colorbar": {
              "outlinewidth": 0,
              "ticks": ""
             }
            },
            "type": "scattercarpet"
           }
          ],
          "scattergeo": [
           {
            "marker": {
             "colorbar": {
              "outlinewidth": 0,
              "ticks": ""
             }
            },
            "type": "scattergeo"
           }
          ],
          "scattergl": [
           {
            "marker": {
             "colorbar": {
              "outlinewidth": 0,
              "ticks": ""
             }
            },
            "type": "scattergl"
           }
          ],
          "scattermapbox": [
           {
            "marker": {
             "colorbar": {
              "outlinewidth": 0,
              "ticks": ""
             }
            },
            "type": "scattermapbox"
           }
          ],
          "scatterpolar": [
           {
            "marker": {
             "colorbar": {
              "outlinewidth": 0,
              "ticks": ""
             }
            },
            "type": "scatterpolar"
           }
          ],
          "scatterpolargl": [
           {
            "marker": {
             "colorbar": {
              "outlinewidth": 0,
              "ticks": ""
             }
            },
            "type": "scatterpolargl"
           }
          ],
          "scatterternary": [
           {
            "marker": {
             "colorbar": {
              "outlinewidth": 0,
              "ticks": ""
             }
            },
            "type": "scatterternary"
           }
          ],
          "surface": [
           {
            "colorbar": {
             "outlinewidth": 0,
             "ticks": ""
            },
            "colorscale": [
             [
              0,
              "#0d0887"
             ],
             [
              0.1111111111111111,
              "#46039f"
             ],
             [
              0.2222222222222222,
              "#7201a8"
             ],
             [
              0.3333333333333333,
              "#9c179e"
             ],
             [
              0.4444444444444444,
              "#bd3786"
             ],
             [
              0.5555555555555556,
              "#d8576b"
             ],
             [
              0.6666666666666666,
              "#ed7953"
             ],
             [
              0.7777777777777778,
              "#fb9f3a"
             ],
             [
              0.8888888888888888,
              "#fdca26"
             ],
             [
              1,
              "#f0f921"
             ]
            ],
            "type": "surface"
           }
          ],
          "table": [
           {
            "cells": {
             "fill": {
              "color": "#EBF0F8"
             },
             "line": {
              "color": "white"
             }
            },
            "header": {
             "fill": {
              "color": "#C8D4E3"
             },
             "line": {
              "color": "white"
             }
            },
            "type": "table"
           }
          ]
         },
         "layout": {
          "annotationdefaults": {
           "arrowcolor": "#2a3f5f",
           "arrowhead": 0,
           "arrowwidth": 1
          },
          "coloraxis": {
           "colorbar": {
            "outlinewidth": 0,
            "ticks": ""
           }
          },
          "colorscale": {
           "diverging": [
            [
             0,
             "#8e0152"
            ],
            [
             0.1,
             "#c51b7d"
            ],
            [
             0.2,
             "#de77ae"
            ],
            [
             0.3,
             "#f1b6da"
            ],
            [
             0.4,
             "#fde0ef"
            ],
            [
             0.5,
             "#f7f7f7"
            ],
            [
             0.6,
             "#e6f5d0"
            ],
            [
             0.7,
             "#b8e186"
            ],
            [
             0.8,
             "#7fbc41"
            ],
            [
             0.9,
             "#4d9221"
            ],
            [
             1,
             "#276419"
            ]
           ],
           "sequential": [
            [
             0,
             "#0d0887"
            ],
            [
             0.1111111111111111,
             "#46039f"
            ],
            [
             0.2222222222222222,
             "#7201a8"
            ],
            [
             0.3333333333333333,
             "#9c179e"
            ],
            [
             0.4444444444444444,
             "#bd3786"
            ],
            [
             0.5555555555555556,
             "#d8576b"
            ],
            [
             0.6666666666666666,
             "#ed7953"
            ],
            [
             0.7777777777777778,
             "#fb9f3a"
            ],
            [
             0.8888888888888888,
             "#fdca26"
            ],
            [
             1,
             "#f0f921"
            ]
           ],
           "sequentialminus": [
            [
             0,
             "#0d0887"
            ],
            [
             0.1111111111111111,
             "#46039f"
            ],
            [
             0.2222222222222222,
             "#7201a8"
            ],
            [
             0.3333333333333333,
             "#9c179e"
            ],
            [
             0.4444444444444444,
             "#bd3786"
            ],
            [
             0.5555555555555556,
             "#d8576b"
            ],
            [
             0.6666666666666666,
             "#ed7953"
            ],
            [
             0.7777777777777778,
             "#fb9f3a"
            ],
            [
             0.8888888888888888,
             "#fdca26"
            ],
            [
             1,
             "#f0f921"
            ]
           ]
          },
          "colorway": [
           "#636efa",
           "#EF553B",
           "#00cc96",
           "#ab63fa",
           "#FFA15A",
           "#19d3f3",
           "#FF6692",
           "#B6E880",
           "#FF97FF",
           "#FECB52"
          ],
          "font": {
           "color": "#2a3f5f"
          },
          "geo": {
           "bgcolor": "white",
           "lakecolor": "white",
           "landcolor": "#E5ECF6",
           "showlakes": true,
           "showland": true,
           "subunitcolor": "white"
          },
          "hoverlabel": {
           "align": "left"
          },
          "hovermode": "closest",
          "mapbox": {
           "style": "light"
          },
          "paper_bgcolor": "white",
          "plot_bgcolor": "#E5ECF6",
          "polar": {
           "angularaxis": {
            "gridcolor": "white",
            "linecolor": "white",
            "ticks": ""
           },
           "bgcolor": "#E5ECF6",
           "radialaxis": {
            "gridcolor": "white",
            "linecolor": "white",
            "ticks": ""
           }
          },
          "scene": {
           "xaxis": {
            "backgroundcolor": "#E5ECF6",
            "gridcolor": "white",
            "gridwidth": 2,
            "linecolor": "white",
            "showbackground": true,
            "ticks": "",
            "zerolinecolor": "white"
           },
           "yaxis": {
            "backgroundcolor": "#E5ECF6",
            "gridcolor": "white",
            "gridwidth": 2,
            "linecolor": "white",
            "showbackground": true,
            "ticks": "",
            "zerolinecolor": "white"
           },
           "zaxis": {
            "backgroundcolor": "#E5ECF6",
            "gridcolor": "white",
            "gridwidth": 2,
            "linecolor": "white",
            "showbackground": true,
            "ticks": "",
            "zerolinecolor": "white"
           }
          },
          "shapedefaults": {
           "line": {
            "color": "#2a3f5f"
           }
          },
          "ternary": {
           "aaxis": {
            "gridcolor": "white",
            "linecolor": "white",
            "ticks": ""
           },
           "baxis": {
            "gridcolor": "white",
            "linecolor": "white",
            "ticks": ""
           },
           "bgcolor": "#E5ECF6",
           "caxis": {
            "gridcolor": "white",
            "linecolor": "white",
            "ticks": ""
           }
          },
          "title": {
           "x": 0.05
          },
          "xaxis": {
           "automargin": true,
           "gridcolor": "white",
           "linecolor": "white",
           "ticks": "",
           "title": {
            "standoff": 15
           },
           "zerolinecolor": "white",
           "zerolinewidth": 2
          },
          "yaxis": {
           "automargin": true,
           "gridcolor": "white",
           "linecolor": "white",
           "ticks": "",
           "title": {
            "standoff": 15
           },
           "zerolinecolor": "white",
           "zerolinewidth": 2
          }
         }
        },
        "updatemenus": [
         {
          "buttons": [
           {
            "args": [
             null,
             {
              "frame": {
               "duration": 500,
               "redraw": false
              },
              "fromcurrent": true,
              "mode": "immediate",
              "transition": {
               "duration": 500,
               "easing": "linear"
              }
             }
            ],
            "label": "&#9654;",
            "method": "animate"
           },
           {
            "args": [
             [
              null
             ],
             {
              "frame": {
               "duration": 0,
               "redraw": false
              },
              "fromcurrent": true,
              "mode": "immediate",
              "transition": {
               "duration": 0,
               "easing": "linear"
              }
             }
            ],
            "label": "&#9724;",
            "method": "animate"
           }
          ],
          "direction": "left",
          "pad": {
           "r": 10,
           "t": 70
          },
          "showactive": false,
          "type": "buttons",
          "x": 0.1,
          "xanchor": "right",
          "y": 0,
          "yanchor": "top"
         }
        ],
        "xaxis": {
         "anchor": "y",
         "domain": [
          0,
          0.49
         ],
         "range": [
          -3,
          3
         ],
         "title": {
          "text": "x_position"
         }
        },
        "xaxis2": {
         "anchor": "y2",
         "domain": [
          0.51,
          1
         ],
         "matches": "x",
         "range": [
          -3,
          3
         ],
         "title": {
          "text": "x_position"
         }
        },
        "yaxis": {
         "anchor": "x",
         "domain": [
          0,
          1
         ],
         "range": [
          -3,
          3
         ],
         "title": {
          "text": "x_position"
         }
        },
        "yaxis2": {
         "anchor": "x2",
         "domain": [
          0,
          1
         ],
         "matches": "y",
         "showticklabels": false
        }
       }
      },
      "text/html": [
       "<div>\n",
       "        \n",
       "        \n",
       "            <div id=\"3f5aac38-548f-40d0-b9e7-9522e0381839\" class=\"plotly-graph-div\" style=\"height:525px; width:100%;\"></div>\n",
       "            <script type=\"text/javascript\">\n",
       "                require([\"plotly\"], function(Plotly) {\n",
       "                    window.PLOTLYENV=window.PLOTLYENV || {};\n",
       "                    \n",
       "                if (document.getElementById(\"3f5aac38-548f-40d0-b9e7-9522e0381839\")) {\n",
       "                    Plotly.newPlot(\n",
       "                        '3f5aac38-548f-40d0-b9e7-9522e0381839',\n",
       "                        [{\"hovertemplate\": \"data_type=measured<br>n_steps=0<br>x_position=%{y}<extra></extra>\", \"ids\": [\"measured\"], \"legendgroup\": \"measured\", \"marker\": {\"color\": \"#636efa\", \"symbol\": \"circle\"}, \"mode\": \"markers\", \"name\": \"measured\", \"orientation\": \"v\", \"showlegend\": true, \"type\": \"scatter\", \"x\": [0.645445805899468], \"xaxis\": \"x\", \"y\": [0.645445805899468], \"yaxis\": \"y\"}, {\"hovertemplate\": \"data_type=estimated<br>n_steps=0<br>x_position=%{y}<extra></extra>\", \"ids\": [\"estimated\"], \"legendgroup\": \"estimated\", \"marker\": {\"color\": \"#EF553B\", \"symbol\": \"circle\"}, \"mode\": \"markers\", \"name\": \"estimated\", \"orientation\": \"v\", \"showlegend\": true, \"type\": \"scatter\", \"x\": [0.0], \"xaxis\": \"x2\", \"y\": [0.0], \"yaxis\": \"y2\"}],\n",
       "                        {\"annotations\": [{\"font\": {}, \"showarrow\": false, \"text\": \"data_type=measured\", \"x\": 0.245, \"xanchor\": \"center\", \"xref\": \"paper\", \"y\": 1.0, \"yanchor\": \"bottom\", \"yref\": \"paper\"}, {\"font\": {}, \"showarrow\": false, \"text\": \"data_type=estimated\", \"x\": 0.755, \"xanchor\": \"center\", \"xref\": \"paper\", \"y\": 1.0, \"yanchor\": \"bottom\", \"yref\": \"paper\"}], \"legend\": {\"title\": {\"text\": \"data_type\"}, \"tracegroupgap\": 0}, \"margin\": {\"t\": 60}, \"sliders\": [{\"active\": 0, \"currentvalue\": {\"prefix\": \"n_steps=\"}, \"len\": 0.9, \"pad\": {\"b\": 10, \"t\": 60}, \"steps\": [{\"args\": [[\"0\"], {\"frame\": {\"duration\": 0, \"redraw\": false}, \"fromcurrent\": true, \"mode\": \"immediate\", \"transition\": {\"duration\": 0, \"easing\": \"linear\"}}], \"label\": \"0\", \"method\": \"animate\"}, {\"args\": [[\"1\"], {\"frame\": {\"duration\": 0, \"redraw\": false}, \"fromcurrent\": true, \"mode\": \"immediate\", \"transition\": {\"duration\": 0, \"easing\": \"linear\"}}], \"label\": \"1\", \"method\": \"animate\"}, {\"args\": [[\"2\"], {\"frame\": {\"duration\": 0, \"redraw\": false}, \"fromcurrent\": true, \"mode\": \"immediate\", \"transition\": {\"duration\": 0, \"easing\": \"linear\"}}], \"label\": \"2\", \"method\": \"animate\"}, {\"args\": [[\"3\"], {\"frame\": {\"duration\": 0, \"redraw\": false}, \"fromcurrent\": true, \"mode\": \"immediate\", \"transition\": {\"duration\": 0, \"easing\": \"linear\"}}], \"label\": \"3\", \"method\": \"animate\"}, {\"args\": [[\"4\"], {\"frame\": {\"duration\": 0, \"redraw\": false}, \"fromcurrent\": true, \"mode\": \"immediate\", \"transition\": {\"duration\": 0, \"easing\": \"linear\"}}], \"label\": \"4\", \"method\": \"animate\"}, {\"args\": [[\"5\"], {\"frame\": {\"duration\": 0, \"redraw\": false}, \"fromcurrent\": true, \"mode\": \"immediate\", \"transition\": {\"duration\": 0, \"easing\": \"linear\"}}], \"label\": \"5\", \"method\": \"animate\"}, {\"args\": [[\"6\"], {\"frame\": {\"duration\": 0, \"redraw\": false}, \"fromcurrent\": true, \"mode\": \"immediate\", \"transition\": {\"duration\": 0, \"easing\": \"linear\"}}], \"label\": \"6\", \"method\": \"animate\"}, {\"args\": [[\"7\"], {\"frame\": {\"duration\": 0, \"redraw\": false}, \"fromcurrent\": true, \"mode\": \"immediate\", \"transition\": {\"duration\": 0, \"easing\": \"linear\"}}], \"label\": \"7\", \"method\": \"animate\"}, {\"args\": [[\"8\"], {\"frame\": {\"duration\": 0, \"redraw\": false}, \"fromcurrent\": true, \"mode\": \"immediate\", \"transition\": {\"duration\": 0, \"easing\": \"linear\"}}], \"label\": \"8\", \"method\": \"animate\"}, {\"args\": [[\"9\"], {\"frame\": {\"duration\": 0, \"redraw\": false}, \"fromcurrent\": true, \"mode\": \"immediate\", \"transition\": {\"duration\": 0, \"easing\": \"linear\"}}], \"label\": \"9\", \"method\": \"animate\"}, {\"args\": [[\"10\"], {\"frame\": {\"duration\": 0, \"redraw\": false}, \"fromcurrent\": true, \"mode\": \"immediate\", \"transition\": {\"duration\": 0, \"easing\": \"linear\"}}], \"label\": \"10\", \"method\": \"animate\"}, {\"args\": [[\"11\"], {\"frame\": {\"duration\": 0, \"redraw\": false}, \"fromcurrent\": true, \"mode\": \"immediate\", \"transition\": {\"duration\": 0, \"easing\": \"linear\"}}], \"label\": \"11\", \"method\": \"animate\"}, {\"args\": [[\"12\"], {\"frame\": {\"duration\": 0, \"redraw\": false}, \"fromcurrent\": true, \"mode\": \"immediate\", \"transition\": {\"duration\": 0, \"easing\": \"linear\"}}], \"label\": \"12\", \"method\": \"animate\"}, {\"args\": [[\"13\"], {\"frame\": {\"duration\": 0, \"redraw\": false}, \"fromcurrent\": true, \"mode\": \"immediate\", \"transition\": {\"duration\": 0, \"easing\": \"linear\"}}], \"label\": \"13\", \"method\": \"animate\"}, {\"args\": [[\"14\"], {\"frame\": {\"duration\": 0, \"redraw\": false}, \"fromcurrent\": true, \"mode\": \"immediate\", \"transition\": {\"duration\": 0, \"easing\": \"linear\"}}], \"label\": \"14\", \"method\": \"animate\"}, {\"args\": [[\"15\"], {\"frame\": {\"duration\": 0, \"redraw\": false}, \"fromcurrent\": true, \"mode\": \"immediate\", \"transition\": {\"duration\": 0, \"easing\": \"linear\"}}], \"label\": \"15\", \"method\": \"animate\"}, {\"args\": [[\"16\"], {\"frame\": {\"duration\": 0, \"redraw\": false}, \"fromcurrent\": true, \"mode\": \"immediate\", \"transition\": {\"duration\": 0, \"easing\": \"linear\"}}], \"label\": \"16\", \"method\": \"animate\"}, {\"args\": [[\"17\"], {\"frame\": {\"duration\": 0, \"redraw\": false}, \"fromcurrent\": true, \"mode\": \"immediate\", \"transition\": {\"duration\": 0, \"easing\": \"linear\"}}], \"label\": \"17\", \"method\": \"animate\"}, {\"args\": [[\"18\"], {\"frame\": {\"duration\": 0, \"redraw\": false}, \"fromcurrent\": true, \"mode\": \"immediate\", \"transition\": {\"duration\": 0, \"easing\": \"linear\"}}], \"label\": \"18\", \"method\": \"animate\"}, {\"args\": [[\"19\"], {\"frame\": {\"duration\": 0, \"redraw\": false}, \"fromcurrent\": true, \"mode\": \"immediate\", \"transition\": {\"duration\": 0, \"easing\": \"linear\"}}], \"label\": \"19\", \"method\": \"animate\"}, {\"args\": [[\"20\"], {\"frame\": {\"duration\": 0, \"redraw\": false}, \"fromcurrent\": true, \"mode\": \"immediate\", \"transition\": {\"duration\": 0, \"easing\": \"linear\"}}], \"label\": \"20\", \"method\": \"animate\"}, {\"args\": [[\"21\"], {\"frame\": {\"duration\": 0, \"redraw\": false}, \"fromcurrent\": true, \"mode\": \"immediate\", \"transition\": {\"duration\": 0, \"easing\": \"linear\"}}], \"label\": \"21\", \"method\": \"animate\"}, {\"args\": [[\"22\"], {\"frame\": {\"duration\": 0, \"redraw\": false}, \"fromcurrent\": true, \"mode\": \"immediate\", \"transition\": {\"duration\": 0, \"easing\": \"linear\"}}], \"label\": \"22\", \"method\": \"animate\"}, {\"args\": [[\"23\"], {\"frame\": {\"duration\": 0, \"redraw\": false}, \"fromcurrent\": true, \"mode\": \"immediate\", \"transition\": {\"duration\": 0, \"easing\": \"linear\"}}], \"label\": \"23\", \"method\": \"animate\"}, {\"args\": [[\"24\"], {\"frame\": {\"duration\": 0, \"redraw\": false}, \"fromcurrent\": true, \"mode\": \"immediate\", \"transition\": {\"duration\": 0, \"easing\": \"linear\"}}], \"label\": \"24\", \"method\": \"animate\"}, {\"args\": [[\"25\"], {\"frame\": {\"duration\": 0, \"redraw\": false}, \"fromcurrent\": true, \"mode\": \"immediate\", \"transition\": {\"duration\": 0, \"easing\": \"linear\"}}], \"label\": \"25\", \"method\": \"animate\"}, {\"args\": [[\"26\"], {\"frame\": {\"duration\": 0, \"redraw\": false}, \"fromcurrent\": true, \"mode\": \"immediate\", \"transition\": {\"duration\": 0, \"easing\": \"linear\"}}], \"label\": \"26\", \"method\": \"animate\"}, {\"args\": [[\"27\"], {\"frame\": {\"duration\": 0, \"redraw\": false}, \"fromcurrent\": true, \"mode\": \"immediate\", \"transition\": {\"duration\": 0, \"easing\": \"linear\"}}], \"label\": \"27\", \"method\": \"animate\"}, {\"args\": [[\"28\"], {\"frame\": {\"duration\": 0, \"redraw\": false}, \"fromcurrent\": true, \"mode\": \"immediate\", \"transition\": {\"duration\": 0, \"easing\": \"linear\"}}], \"label\": \"28\", \"method\": \"animate\"}, {\"args\": [[\"29\"], {\"frame\": {\"duration\": 0, \"redraw\": false}, \"fromcurrent\": true, \"mode\": \"immediate\", \"transition\": {\"duration\": 0, \"easing\": \"linear\"}}], \"label\": \"29\", \"method\": \"animate\"}, {\"args\": [[\"30\"], {\"frame\": {\"duration\": 0, \"redraw\": false}, \"fromcurrent\": true, \"mode\": \"immediate\", \"transition\": {\"duration\": 0, \"easing\": \"linear\"}}], \"label\": \"30\", \"method\": \"animate\"}, {\"args\": [[\"31\"], {\"frame\": {\"duration\": 0, \"redraw\": false}, \"fromcurrent\": true, \"mode\": \"immediate\", \"transition\": {\"duration\": 0, \"easing\": \"linear\"}}], \"label\": \"31\", \"method\": \"animate\"}, {\"args\": [[\"32\"], {\"frame\": {\"duration\": 0, \"redraw\": false}, \"fromcurrent\": true, \"mode\": \"immediate\", \"transition\": {\"duration\": 0, \"easing\": \"linear\"}}], \"label\": \"32\", \"method\": \"animate\"}, {\"args\": [[\"33\"], {\"frame\": {\"duration\": 0, \"redraw\": false}, \"fromcurrent\": true, \"mode\": \"immediate\", \"transition\": {\"duration\": 0, \"easing\": \"linear\"}}], \"label\": \"33\", \"method\": \"animate\"}, {\"args\": [[\"34\"], {\"frame\": {\"duration\": 0, \"redraw\": false}, \"fromcurrent\": true, \"mode\": \"immediate\", \"transition\": {\"duration\": 0, \"easing\": \"linear\"}}], \"label\": \"34\", \"method\": \"animate\"}, {\"args\": [[\"35\"], {\"frame\": {\"duration\": 0, \"redraw\": false}, \"fromcurrent\": true, \"mode\": \"immediate\", \"transition\": {\"duration\": 0, \"easing\": \"linear\"}}], \"label\": \"35\", \"method\": \"animate\"}, {\"args\": [[\"36\"], {\"frame\": {\"duration\": 0, \"redraw\": false}, \"fromcurrent\": true, \"mode\": \"immediate\", \"transition\": {\"duration\": 0, \"easing\": \"linear\"}}], \"label\": \"36\", \"method\": \"animate\"}, {\"args\": [[\"37\"], {\"frame\": {\"duration\": 0, \"redraw\": false}, \"fromcurrent\": true, \"mode\": \"immediate\", \"transition\": {\"duration\": 0, \"easing\": \"linear\"}}], \"label\": \"37\", \"method\": \"animate\"}, {\"args\": [[\"38\"], {\"frame\": {\"duration\": 0, \"redraw\": false}, \"fromcurrent\": true, \"mode\": \"immediate\", \"transition\": {\"duration\": 0, \"easing\": \"linear\"}}], \"label\": \"38\", \"method\": \"animate\"}, {\"args\": [[\"39\"], {\"frame\": {\"duration\": 0, \"redraw\": false}, \"fromcurrent\": true, \"mode\": \"immediate\", \"transition\": {\"duration\": 0, \"easing\": \"linear\"}}], \"label\": \"39\", \"method\": \"animate\"}, {\"args\": [[\"40\"], {\"frame\": {\"duration\": 0, \"redraw\": false}, \"fromcurrent\": true, \"mode\": \"immediate\", \"transition\": {\"duration\": 0, \"easing\": \"linear\"}}], \"label\": \"40\", \"method\": \"animate\"}, {\"args\": [[\"41\"], {\"frame\": {\"duration\": 0, \"redraw\": false}, \"fromcurrent\": true, \"mode\": \"immediate\", \"transition\": {\"duration\": 0, \"easing\": \"linear\"}}], \"label\": \"41\", \"method\": \"animate\"}, {\"args\": [[\"42\"], {\"frame\": {\"duration\": 0, \"redraw\": false}, \"fromcurrent\": true, \"mode\": \"immediate\", \"transition\": {\"duration\": 0, \"easing\": \"linear\"}}], \"label\": \"42\", \"method\": \"animate\"}, {\"args\": [[\"43\"], {\"frame\": {\"duration\": 0, \"redraw\": false}, \"fromcurrent\": true, \"mode\": \"immediate\", \"transition\": {\"duration\": 0, \"easing\": \"linear\"}}], \"label\": \"43\", \"method\": \"animate\"}, {\"args\": [[\"44\"], {\"frame\": {\"duration\": 0, \"redraw\": false}, \"fromcurrent\": true, \"mode\": \"immediate\", \"transition\": {\"duration\": 0, \"easing\": \"linear\"}}], \"label\": \"44\", \"method\": \"animate\"}, {\"args\": [[\"45\"], {\"frame\": {\"duration\": 0, \"redraw\": false}, \"fromcurrent\": true, \"mode\": \"immediate\", \"transition\": {\"duration\": 0, \"easing\": \"linear\"}}], \"label\": \"45\", \"method\": \"animate\"}, {\"args\": [[\"46\"], {\"frame\": {\"duration\": 0, \"redraw\": false}, \"fromcurrent\": true, \"mode\": \"immediate\", \"transition\": {\"duration\": 0, \"easing\": \"linear\"}}], \"label\": \"46\", \"method\": \"animate\"}, {\"args\": [[\"47\"], {\"frame\": {\"duration\": 0, \"redraw\": false}, \"fromcurrent\": true, \"mode\": \"immediate\", \"transition\": {\"duration\": 0, \"easing\": \"linear\"}}], \"label\": \"47\", \"method\": \"animate\"}, {\"args\": [[\"48\"], {\"frame\": {\"duration\": 0, \"redraw\": false}, \"fromcurrent\": true, \"mode\": \"immediate\", \"transition\": {\"duration\": 0, \"easing\": \"linear\"}}], \"label\": \"48\", \"method\": \"animate\"}, {\"args\": [[\"49\"], {\"frame\": {\"duration\": 0, \"redraw\": false}, \"fromcurrent\": true, \"mode\": \"immediate\", \"transition\": {\"duration\": 0, \"easing\": \"linear\"}}], \"label\": \"49\", \"method\": \"animate\"}], \"x\": 0.1, \"xanchor\": \"left\", \"y\": 0, \"yanchor\": \"top\"}], \"template\": {\"data\": {\"bar\": [{\"error_x\": {\"color\": \"#2a3f5f\"}, \"error_y\": {\"color\": \"#2a3f5f\"}, \"marker\": {\"line\": {\"color\": \"#E5ECF6\", \"width\": 0.5}}, \"type\": \"bar\"}], \"barpolar\": [{\"marker\": {\"line\": {\"color\": \"#E5ECF6\", \"width\": 0.5}}, \"type\": \"barpolar\"}], \"carpet\": [{\"aaxis\": {\"endlinecolor\": \"#2a3f5f\", \"gridcolor\": \"white\", \"linecolor\": \"white\", \"minorgridcolor\": \"white\", \"startlinecolor\": \"#2a3f5f\"}, \"baxis\": {\"endlinecolor\": \"#2a3f5f\", \"gridcolor\": \"white\", \"linecolor\": \"white\", \"minorgridcolor\": \"white\", \"startlinecolor\": \"#2a3f5f\"}, \"type\": \"carpet\"}], \"choropleth\": [{\"colorbar\": {\"outlinewidth\": 0, \"ticks\": \"\"}, \"type\": \"choropleth\"}], \"contour\": [{\"colorbar\": {\"outlinewidth\": 0, \"ticks\": \"\"}, \"colorscale\": [[0.0, \"#0d0887\"], [0.1111111111111111, \"#46039f\"], [0.2222222222222222, \"#7201a8\"], [0.3333333333333333, \"#9c179e\"], [0.4444444444444444, \"#bd3786\"], [0.5555555555555556, \"#d8576b\"], [0.6666666666666666, \"#ed7953\"], [0.7777777777777778, \"#fb9f3a\"], [0.8888888888888888, \"#fdca26\"], [1.0, \"#f0f921\"]], \"type\": \"contour\"}], \"contourcarpet\": [{\"colorbar\": {\"outlinewidth\": 0, \"ticks\": \"\"}, \"type\": \"contourcarpet\"}], \"heatmap\": [{\"colorbar\": {\"outlinewidth\": 0, \"ticks\": \"\"}, \"colorscale\": [[0.0, \"#0d0887\"], [0.1111111111111111, \"#46039f\"], [0.2222222222222222, \"#7201a8\"], [0.3333333333333333, \"#9c179e\"], [0.4444444444444444, \"#bd3786\"], [0.5555555555555556, \"#d8576b\"], [0.6666666666666666, \"#ed7953\"], [0.7777777777777778, \"#fb9f3a\"], [0.8888888888888888, \"#fdca26\"], [1.0, \"#f0f921\"]], \"type\": \"heatmap\"}], \"heatmapgl\": [{\"colorbar\": {\"outlinewidth\": 0, \"ticks\": \"\"}, \"colorscale\": [[0.0, \"#0d0887\"], [0.1111111111111111, \"#46039f\"], [0.2222222222222222, \"#7201a8\"], [0.3333333333333333, \"#9c179e\"], [0.4444444444444444, \"#bd3786\"], [0.5555555555555556, \"#d8576b\"], [0.6666666666666666, \"#ed7953\"], [0.7777777777777778, \"#fb9f3a\"], [0.8888888888888888, \"#fdca26\"], [1.0, \"#f0f921\"]], \"type\": \"heatmapgl\"}], \"histogram\": [{\"marker\": {\"colorbar\": {\"outlinewidth\": 0, \"ticks\": \"\"}}, \"type\": \"histogram\"}], \"histogram2d\": [{\"colorbar\": {\"outlinewidth\": 0, \"ticks\": \"\"}, \"colorscale\": [[0.0, \"#0d0887\"], [0.1111111111111111, \"#46039f\"], [0.2222222222222222, \"#7201a8\"], [0.3333333333333333, \"#9c179e\"], [0.4444444444444444, \"#bd3786\"], [0.5555555555555556, \"#d8576b\"], [0.6666666666666666, \"#ed7953\"], [0.7777777777777778, \"#fb9f3a\"], [0.8888888888888888, \"#fdca26\"], [1.0, \"#f0f921\"]], \"type\": \"histogram2d\"}], \"histogram2dcontour\": [{\"colorbar\": {\"outlinewidth\": 0, \"ticks\": \"\"}, \"colorscale\": [[0.0, \"#0d0887\"], [0.1111111111111111, \"#46039f\"], [0.2222222222222222, \"#7201a8\"], [0.3333333333333333, \"#9c179e\"], [0.4444444444444444, \"#bd3786\"], [0.5555555555555556, \"#d8576b\"], [0.6666666666666666, \"#ed7953\"], [0.7777777777777778, \"#fb9f3a\"], [0.8888888888888888, \"#fdca26\"], [1.0, \"#f0f921\"]], \"type\": \"histogram2dcontour\"}], \"mesh3d\": [{\"colorbar\": {\"outlinewidth\": 0, \"ticks\": \"\"}, \"type\": \"mesh3d\"}], \"parcoords\": [{\"line\": {\"colorbar\": {\"outlinewidth\": 0, \"ticks\": \"\"}}, \"type\": \"parcoords\"}], \"pie\": [{\"automargin\": true, \"type\": \"pie\"}], \"scatter\": [{\"marker\": {\"colorbar\": {\"outlinewidth\": 0, \"ticks\": \"\"}}, \"type\": \"scatter\"}], \"scatter3d\": [{\"line\": {\"colorbar\": {\"outlinewidth\": 0, \"ticks\": \"\"}}, \"marker\": {\"colorbar\": {\"outlinewidth\": 0, \"ticks\": \"\"}}, \"type\": \"scatter3d\"}], \"scattercarpet\": [{\"marker\": {\"colorbar\": {\"outlinewidth\": 0, \"ticks\": \"\"}}, \"type\": \"scattercarpet\"}], \"scattergeo\": [{\"marker\": {\"colorbar\": {\"outlinewidth\": 0, \"ticks\": \"\"}}, \"type\": \"scattergeo\"}], \"scattergl\": [{\"marker\": {\"colorbar\": {\"outlinewidth\": 0, \"ticks\": \"\"}}, \"type\": \"scattergl\"}], \"scattermapbox\": [{\"marker\": {\"colorbar\": {\"outlinewidth\": 0, \"ticks\": \"\"}}, \"type\": \"scattermapbox\"}], \"scatterpolar\": [{\"marker\": {\"colorbar\": {\"outlinewidth\": 0, \"ticks\": \"\"}}, \"type\": \"scatterpolar\"}], \"scatterpolargl\": [{\"marker\": {\"colorbar\": {\"outlinewidth\": 0, \"ticks\": \"\"}}, \"type\": \"scatterpolargl\"}], \"scatterternary\": [{\"marker\": {\"colorbar\": {\"outlinewidth\": 0, \"ticks\": \"\"}}, \"type\": \"scatterternary\"}], \"surface\": [{\"colorbar\": {\"outlinewidth\": 0, \"ticks\": \"\"}, \"colorscale\": [[0.0, \"#0d0887\"], [0.1111111111111111, \"#46039f\"], [0.2222222222222222, \"#7201a8\"], [0.3333333333333333, \"#9c179e\"], [0.4444444444444444, \"#bd3786\"], [0.5555555555555556, \"#d8576b\"], [0.6666666666666666, \"#ed7953\"], [0.7777777777777778, \"#fb9f3a\"], [0.8888888888888888, \"#fdca26\"], [1.0, \"#f0f921\"]], \"type\": \"surface\"}], \"table\": [{\"cells\": {\"fill\": {\"color\": \"#EBF0F8\"}, \"line\": {\"color\": \"white\"}}, \"header\": {\"fill\": {\"color\": \"#C8D4E3\"}, \"line\": {\"color\": \"white\"}}, \"type\": \"table\"}]}, \"layout\": {\"annotationdefaults\": {\"arrowcolor\": \"#2a3f5f\", \"arrowhead\": 0, \"arrowwidth\": 1}, \"coloraxis\": {\"colorbar\": {\"outlinewidth\": 0, \"ticks\": \"\"}}, \"colorscale\": {\"diverging\": [[0, \"#8e0152\"], [0.1, \"#c51b7d\"], [0.2, \"#de77ae\"], [0.3, \"#f1b6da\"], [0.4, \"#fde0ef\"], [0.5, \"#f7f7f7\"], [0.6, \"#e6f5d0\"], [0.7, \"#b8e186\"], [0.8, \"#7fbc41\"], [0.9, \"#4d9221\"], [1, \"#276419\"]], \"sequential\": [[0.0, \"#0d0887\"], [0.1111111111111111, \"#46039f\"], [0.2222222222222222, \"#7201a8\"], [0.3333333333333333, \"#9c179e\"], [0.4444444444444444, \"#bd3786\"], [0.5555555555555556, \"#d8576b\"], [0.6666666666666666, \"#ed7953\"], [0.7777777777777778, \"#fb9f3a\"], [0.8888888888888888, \"#fdca26\"], [1.0, \"#f0f921\"]], \"sequentialminus\": [[0.0, \"#0d0887\"], [0.1111111111111111, \"#46039f\"], [0.2222222222222222, \"#7201a8\"], [0.3333333333333333, \"#9c179e\"], [0.4444444444444444, \"#bd3786\"], [0.5555555555555556, \"#d8576b\"], [0.6666666666666666, \"#ed7953\"], [0.7777777777777778, \"#fb9f3a\"], [0.8888888888888888, \"#fdca26\"], [1.0, \"#f0f921\"]]}, \"colorway\": [\"#636efa\", \"#EF553B\", \"#00cc96\", \"#ab63fa\", \"#FFA15A\", \"#19d3f3\", \"#FF6692\", \"#B6E880\", \"#FF97FF\", \"#FECB52\"], \"font\": {\"color\": \"#2a3f5f\"}, \"geo\": {\"bgcolor\": \"white\", \"lakecolor\": \"white\", \"landcolor\": \"#E5ECF6\", \"showlakes\": true, \"showland\": true, \"subunitcolor\": \"white\"}, \"hoverlabel\": {\"align\": \"left\"}, \"hovermode\": \"closest\", \"mapbox\": {\"style\": \"light\"}, \"paper_bgcolor\": \"white\", \"plot_bgcolor\": \"#E5ECF6\", \"polar\": {\"angularaxis\": {\"gridcolor\": \"white\", \"linecolor\": \"white\", \"ticks\": \"\"}, \"bgcolor\": \"#E5ECF6\", \"radialaxis\": {\"gridcolor\": \"white\", \"linecolor\": \"white\", \"ticks\": \"\"}}, \"scene\": {\"xaxis\": {\"backgroundcolor\": \"#E5ECF6\", \"gridcolor\": \"white\", \"gridwidth\": 2, \"linecolor\": \"white\", \"showbackground\": true, \"ticks\": \"\", \"zerolinecolor\": \"white\"}, \"yaxis\": {\"backgroundcolor\": \"#E5ECF6\", \"gridcolor\": \"white\", \"gridwidth\": 2, \"linecolor\": \"white\", \"showbackground\": true, \"ticks\": \"\", \"zerolinecolor\": \"white\"}, \"zaxis\": {\"backgroundcolor\": \"#E5ECF6\", \"gridcolor\": \"white\", \"gridwidth\": 2, \"linecolor\": \"white\", \"showbackground\": true, \"ticks\": \"\", \"zerolinecolor\": \"white\"}}, \"shapedefaults\": {\"line\": {\"color\": \"#2a3f5f\"}}, \"ternary\": {\"aaxis\": {\"gridcolor\": \"white\", \"linecolor\": \"white\", \"ticks\": \"\"}, \"baxis\": {\"gridcolor\": \"white\", \"linecolor\": \"white\", \"ticks\": \"\"}, \"bgcolor\": \"#E5ECF6\", \"caxis\": {\"gridcolor\": \"white\", \"linecolor\": \"white\", \"ticks\": \"\"}}, \"title\": {\"x\": 0.05}, \"xaxis\": {\"automargin\": true, \"gridcolor\": \"white\", \"linecolor\": \"white\", \"ticks\": \"\", \"title\": {\"standoff\": 15}, \"zerolinecolor\": \"white\", \"zerolinewidth\": 2}, \"yaxis\": {\"automargin\": true, \"gridcolor\": \"white\", \"linecolor\": \"white\", \"ticks\": \"\", \"title\": {\"standoff\": 15}, \"zerolinecolor\": \"white\", \"zerolinewidth\": 2}}}, \"updatemenus\": [{\"buttons\": [{\"args\": [null, {\"frame\": {\"duration\": 500, \"redraw\": false}, \"fromcurrent\": true, \"mode\": \"immediate\", \"transition\": {\"duration\": 500, \"easing\": \"linear\"}}], \"label\": \"&#9654;\", \"method\": \"animate\"}, {\"args\": [[null], {\"frame\": {\"duration\": 0, \"redraw\": false}, \"fromcurrent\": true, \"mode\": \"immediate\", \"transition\": {\"duration\": 0, \"easing\": \"linear\"}}], \"label\": \"&#9724;\", \"method\": \"animate\"}], \"direction\": \"left\", \"pad\": {\"r\": 10, \"t\": 70}, \"showactive\": false, \"type\": \"buttons\", \"x\": 0.1, \"xanchor\": \"right\", \"y\": 0, \"yanchor\": \"top\"}], \"xaxis\": {\"anchor\": \"y\", \"domain\": [0.0, 0.49], \"range\": [-3, 3], \"title\": {\"text\": \"x_position\"}}, \"xaxis2\": {\"anchor\": \"y2\", \"domain\": [0.51, 1.0], \"matches\": \"x\", \"range\": [-3, 3], \"title\": {\"text\": \"x_position\"}}, \"yaxis\": {\"anchor\": \"x\", \"domain\": [0.0, 1.0], \"range\": [-3, 3], \"title\": {\"text\": \"x_position\"}}, \"yaxis2\": {\"anchor\": \"x2\", \"domain\": [0.0, 1.0], \"matches\": \"y\", \"showticklabels\": false}},\n",
       "                        {\"responsive\": true}\n",
       "                    ).then(function(){\n",
       "                            Plotly.addFrames('3f5aac38-548f-40d0-b9e7-9522e0381839', [{\"data\": [{\"hovertemplate\": \"data_type=measured<br>n_steps=0<br>x_position=%{y}<extra></extra>\", \"ids\": [\"measured\"], \"legendgroup\": \"measured\", \"marker\": {\"color\": \"#636efa\", \"symbol\": \"circle\"}, \"mode\": \"markers\", \"name\": \"measured\", \"orientation\": \"v\", \"showlegend\": true, \"x\": [0.645445805899468], \"xaxis\": \"x\", \"y\": [0.645445805899468], \"yaxis\": \"y\", \"type\": \"scatter\"}, {\"hovertemplate\": \"data_type=estimated<br>n_steps=0<br>x_position=%{y}<extra></extra>\", \"ids\": [\"estimated\"], \"legendgroup\": \"estimated\", \"marker\": {\"color\": \"#EF553B\", \"symbol\": \"circle\"}, \"mode\": \"markers\", \"name\": \"estimated\", \"orientation\": \"v\", \"showlegend\": true, \"x\": [0.0], \"xaxis\": \"x2\", \"y\": [0.0], \"yaxis\": \"y2\", \"type\": \"scatter\"}], \"name\": \"0\"}, {\"data\": [{\"hovertemplate\": \"data_type=measured<br>n_steps=1<br>x_position=%{y}<extra></extra>\", \"ids\": [\"measured\"], \"legendgroup\": \"measured\", \"marker\": {\"color\": \"#636efa\", \"symbol\": \"circle\"}, \"mode\": \"markers\", \"name\": \"measured\", \"orientation\": \"v\", \"showlegend\": true, \"x\": [0.9293243915129075], \"xaxis\": \"x\", \"y\": [0.9293243915129075], \"yaxis\": \"y\", \"type\": \"scatter\"}, {\"hovertemplate\": \"data_type=estimated<br>n_steps=1<br>x_position=%{y}<extra></extra>\", \"ids\": [\"estimated\"], \"legendgroup\": \"estimated\", \"marker\": {\"color\": \"#EF553B\", \"symbol\": \"circle\"}, \"mode\": \"markers\", \"name\": \"estimated\", \"orientation\": \"v\", \"showlegend\": true, \"x\": [0.9290921185209634], \"xaxis\": \"x2\", \"y\": [0.9290921185209634], \"yaxis\": \"y2\", \"type\": \"scatter\"}], \"name\": \"1\"}, {\"data\": [{\"hovertemplate\": \"data_type=measured<br>n_steps=2<br>x_position=%{y}<extra></extra>\", \"ids\": [\"measured\"], \"legendgroup\": \"measured\", \"marker\": {\"color\": \"#636efa\", \"symbol\": \"circle\"}, \"mode\": \"markers\", \"name\": \"measured\", \"orientation\": \"v\", \"showlegend\": true, \"x\": [-0.36139572000911685], \"xaxis\": \"x\", \"y\": [-0.36139572000911685], \"yaxis\": \"y\", \"type\": \"scatter\"}, {\"hovertemplate\": \"data_type=estimated<br>n_steps=2<br>x_position=%{y}<extra></extra>\", \"ids\": [\"estimated\"], \"legendgroup\": \"estimated\", \"marker\": {\"color\": \"#EF553B\", \"symbol\": \"circle\"}, \"mode\": \"markers\", \"name\": \"estimated\", \"orientation\": \"v\", \"showlegend\": true, \"x\": [0.28367649604489464], \"xaxis\": \"x2\", \"y\": [0.28367649604489464], \"yaxis\": \"y2\", \"type\": \"scatter\"}], \"name\": \"2\"}, {\"data\": [{\"hovertemplate\": \"data_type=measured<br>n_steps=3<br>x_position=%{y}<extra></extra>\", \"ids\": [\"measured\"], \"legendgroup\": \"measured\", \"marker\": {\"color\": \"#636efa\", \"symbol\": \"circle\"}, \"mode\": \"markers\", \"name\": \"measured\", \"orientation\": \"v\", \"showlegend\": true, \"x\": [-0.03357634391252297], \"xaxis\": \"x\", \"y\": [-0.03357634391252297], \"yaxis\": \"y\", \"type\": \"scatter\"}, {\"hovertemplate\": \"data_type=estimated<br>n_steps=3<br>x_position=%{y}<extra></extra>\", \"ids\": [\"estimated\"], \"legendgroup\": \"estimated\", \"marker\": {\"color\": \"#EF553B\", \"symbol\": \"circle\"}, \"mode\": \"markers\", \"name\": \"estimated\", \"orientation\": \"v\", \"showlegend\": true, \"x\": [0.17782138791978724], \"xaxis\": \"x2\", \"y\": [0.17782138791978724], \"yaxis\": \"y2\", \"type\": \"scatter\"}], \"name\": \"3\"}, {\"data\": [{\"hovertemplate\": \"data_type=measured<br>n_steps=4<br>x_position=%{y}<extra></extra>\", \"ids\": [\"measured\"], \"legendgroup\": \"measured\", \"marker\": {\"color\": \"#636efa\", \"symbol\": \"circle\"}, \"mode\": \"markers\", \"name\": \"measured\", \"orientation\": \"v\", \"showlegend\": true, \"x\": [-0.233292441323481], \"xaxis\": \"x\", \"y\": [-0.233292441323481], \"yaxis\": \"y\", \"type\": \"scatter\"}, {\"hovertemplate\": \"data_type=estimated<br>n_steps=4<br>x_position=%{y}<extra></extra>\", \"ids\": [\"estimated\"], \"legendgroup\": \"estimated\", \"marker\": {\"color\": \"#EF553B\", \"symbol\": \"circle\"}, \"mode\": \"markers\", \"name\": \"estimated\", \"orientation\": \"v\", \"showlegend\": true, \"x\": [0.07520589066534539], \"xaxis\": \"x2\", \"y\": [0.07520589066534539], \"yaxis\": \"y2\", \"type\": \"scatter\"}], \"name\": \"4\"}, {\"data\": [{\"hovertemplate\": \"data_type=measured<br>n_steps=5<br>x_position=%{y}<extra></extra>\", \"ids\": [\"measured\"], \"legendgroup\": \"measured\", \"marker\": {\"color\": \"#636efa\", \"symbol\": \"circle\"}, \"mode\": \"markers\", \"name\": \"measured\", \"orientation\": \"v\", \"showlegend\": true, \"x\": [0.6436486090007763], \"xaxis\": \"x\", \"y\": [0.6436486090007763], \"yaxis\": \"y\", \"type\": \"scatter\"}, {\"hovertemplate\": \"data_type=estimated<br>n_steps=5<br>x_position=%{y}<extra></extra>\", \"ids\": [\"estimated\"], \"legendgroup\": \"estimated\", \"marker\": {\"color\": \"#EF553B\", \"symbol\": \"circle\"}, \"mode\": \"markers\", \"name\": \"estimated\", \"orientation\": \"v\", \"showlegend\": true, \"x\": [0.18935217921302533], \"xaxis\": \"x2\", \"y\": [0.18935217921302533], \"yaxis\": \"y2\", \"type\": \"scatter\"}], \"name\": \"5\"}, {\"data\": [{\"hovertemplate\": \"data_type=measured<br>n_steps=6<br>x_position=%{y}<extra></extra>\", \"ids\": [\"measured\"], \"legendgroup\": \"measured\", \"marker\": {\"color\": \"#636efa\", \"symbol\": \"circle\"}, \"mode\": \"markers\", \"name\": \"measured\", \"orientation\": \"v\", \"showlegend\": true, \"x\": [-0.4512754842460539], \"xaxis\": \"x\", \"y\": [-0.4512754842460539], \"yaxis\": \"y\", \"type\": \"scatter\"}, {\"hovertemplate\": \"data_type=estimated<br>n_steps=6<br>x_position=%{y}<extra></extra>\", \"ids\": [\"estimated\"], \"legendgroup\": \"estimated\", \"marker\": {\"color\": \"#EF553B\", \"symbol\": \"circle\"}, \"mode\": \"markers\", \"name\": \"estimated\", \"orientation\": \"v\", \"showlegend\": true, \"x\": [0.08231425605778467], \"xaxis\": \"x2\", \"y\": [0.08231425605778467], \"yaxis\": \"y2\", \"type\": \"scatter\"}], \"name\": \"6\"}, {\"data\": [{\"hovertemplate\": \"data_type=measured<br>n_steps=7<br>x_position=%{y}<extra></extra>\", \"ids\": [\"measured\"], \"legendgroup\": \"measured\", \"marker\": {\"color\": \"#636efa\", \"symbol\": \"circle\"}, \"mode\": \"markers\", \"name\": \"measured\", \"orientation\": \"v\", \"showlegend\": true, \"x\": [0.37724479985789283], \"xaxis\": \"x\", \"y\": [0.37724479985789283], \"yaxis\": \"y\", \"type\": \"scatter\"}, {\"hovertemplate\": \"data_type=estimated<br>n_steps=7<br>x_position=%{y}<extra></extra>\", \"ids\": [\"estimated\"], \"legendgroup\": \"estimated\", \"marker\": {\"color\": \"#EF553B\", \"symbol\": \"circle\"}, \"mode\": \"markers\", \"name\": \"estimated\", \"orientation\": \"v\", \"showlegend\": true, \"x\": [0.12446142154627676], \"xaxis\": \"x2\", \"y\": [0.12446142154627676], \"yaxis\": \"y2\", \"type\": \"scatter\"}], \"name\": \"7\"}, {\"data\": [{\"hovertemplate\": \"data_type=measured<br>n_steps=8<br>x_position=%{y}<extra></extra>\", \"ids\": [\"measured\"], \"legendgroup\": \"measured\", \"marker\": {\"color\": \"#636efa\", \"symbol\": \"circle\"}, \"mode\": \"markers\", \"name\": \"measured\", \"orientation\": \"v\", \"showlegend\": true, \"x\": [0.5166875925356054], \"xaxis\": \"x\", \"y\": [0.5166875925356054], \"yaxis\": \"y\", \"type\": \"scatter\"}, {\"hovertemplate\": \"data_type=estimated<br>n_steps=8<br>x_position=%{y}<extra></extra>\", \"ids\": [\"estimated\"], \"legendgroup\": \"estimated\", \"marker\": {\"color\": \"#EF553B\", \"symbol\": \"circle\"}, \"mode\": \"markers\", \"name\": \"estimated\", \"orientation\": \"v\", \"showlegend\": true, \"x\": [0.17401797016022294], \"xaxis\": \"x2\", \"y\": [0.17401797016022294], \"yaxis\": \"y2\", \"type\": \"scatter\"}], \"name\": \"8\"}, {\"data\": [{\"hovertemplate\": \"data_type=measured<br>n_steps=9<br>x_position=%{y}<extra></extra>\", \"ids\": [\"measured\"], \"legendgroup\": \"measured\", \"marker\": {\"color\": \"#636efa\", \"symbol\": \"circle\"}, \"mode\": \"markers\", \"name\": \"measured\", \"orientation\": \"v\", \"showlegend\": true, \"x\": [-0.2304168086627438], \"xaxis\": \"x\", \"y\": [-0.2304168086627438], \"yaxis\": \"y\", \"type\": \"scatter\"}, {\"hovertemplate\": \"data_type=estimated<br>n_steps=9<br>x_position=%{y}<extra></extra>\", \"ids\": [\"estimated\"], \"legendgroup\": \"estimated\", \"marker\": {\"color\": \"#EF553B\", \"symbol\": \"circle\"}, \"mode\": \"markers\", \"name\": \"estimated\", \"orientation\": \"v\", \"showlegend\": true, \"x\": [0.12803188407579216], \"xaxis\": \"x2\", \"y\": [0.12803188407579216], \"yaxis\": \"y2\", \"type\": \"scatter\"}], \"name\": \"9\"}, {\"data\": [{\"hovertemplate\": \"data_type=measured<br>n_steps=10<br>x_position=%{y}<extra></extra>\", \"ids\": [\"measured\"], \"legendgroup\": \"measured\", \"marker\": {\"color\": \"#636efa\", \"symbol\": \"circle\"}, \"mode\": \"markers\", \"name\": \"measured\", \"orientation\": \"v\", \"showlegend\": true, \"x\": [-0.0981389257842708], \"xaxis\": \"x\", \"y\": [-0.0981389257842708], \"yaxis\": \"y\", \"type\": \"scatter\"}, {\"hovertemplate\": \"data_type=estimated<br>n_steps=10<br>x_position=%{y}<extra></extra>\", \"ids\": [\"estimated\"], \"legendgroup\": \"estimated\", \"marker\": {\"color\": \"#EF553B\", \"symbol\": \"circle\"}, \"mode\": \"markers\", \"name\": \"estimated\", \"orientation\": \"v\", \"showlegend\": true, \"x\": [0.10561604620927442], \"xaxis\": \"x2\", \"y\": [0.10561604620927442], \"yaxis\": \"y2\", \"type\": \"scatter\"}], \"name\": \"10\"}, {\"data\": [{\"hovertemplate\": \"data_type=measured<br>n_steps=11<br>x_position=%{y}<extra></extra>\", \"ids\": [\"measured\"], \"legendgroup\": \"measured\", \"marker\": {\"color\": \"#636efa\", \"symbol\": \"circle\"}, \"mode\": \"markers\", \"name\": \"measured\", \"orientation\": \"v\", \"showlegend\": true, \"x\": [0.47910253828090665], \"xaxis\": \"x\", \"y\": [0.47910253828090665], \"yaxis\": \"y\", \"type\": \"scatter\"}, {\"hovertemplate\": \"data_type=estimated<br>n_steps=11<br>x_position=%{y}<extra></extra>\", \"ids\": [\"estimated\"], \"legendgroup\": \"estimated\", \"marker\": {\"color\": \"#EF553B\", \"symbol\": \"circle\"}, \"mode\": \"markers\", \"name\": \"estimated\", \"orientation\": \"v\", \"showlegend\": true, \"x\": [0.1400698408559098], \"xaxis\": \"x2\", \"y\": [0.1400698408559098], \"yaxis\": \"y2\", \"type\": \"scatter\"}], \"name\": \"11\"}, {\"data\": [{\"hovertemplate\": \"data_type=measured<br>n_steps=12<br>x_position=%{y}<extra></extra>\", \"ids\": [\"measured\"], \"legendgroup\": \"measured\", \"marker\": {\"color\": \"#636efa\", \"symbol\": \"circle\"}, \"mode\": \"markers\", \"name\": \"measured\", \"orientation\": \"v\", \"showlegend\": true, \"x\": [-0.04593739052711009], \"xaxis\": \"x\", \"y\": [-0.04593739052711009], \"yaxis\": \"y\", \"type\": \"scatter\"}, {\"hovertemplate\": \"data_type=estimated<br>n_steps=12<br>x_position=%{y}<extra></extra>\", \"ids\": [\"estimated\"], \"legendgroup\": \"estimated\", \"marker\": {\"color\": \"#EF553B\", \"symbol\": \"circle\"}, \"mode\": \"markers\", \"name\": \"estimated\", \"orientation\": \"v\", \"showlegend\": true, \"x\": [0.12444730948667433], \"xaxis\": \"x2\", \"y\": [0.12444730948667433], \"yaxis\": \"y2\", \"type\": \"scatter\"}], \"name\": \"12\"}, {\"data\": [{\"hovertemplate\": \"data_type=measured<br>n_steps=13<br>x_position=%{y}<extra></extra>\", \"ids\": [\"measured\"], \"legendgroup\": \"measured\", \"marker\": {\"color\": \"#636efa\", \"symbol\": \"circle\"}, \"mode\": \"markers\", \"name\": \"measured\", \"orientation\": \"v\", \"showlegend\": true, \"x\": [-0.4437676538081774], \"xaxis\": \"x\", \"y\": [-0.4437676538081774], \"yaxis\": \"y\", \"type\": \"scatter\"}, {\"hovertemplate\": \"data_type=estimated<br>n_steps=13<br>x_position=%{y}<extra></extra>\", \"ids\": [\"estimated\"], \"legendgroup\": \"estimated\", \"marker\": {\"color\": \"#EF553B\", \"symbol\": \"circle\"}, \"mode\": \"markers\", \"name\": \"estimated\", \"orientation\": \"v\", \"showlegend\": true, \"x\": [0.0779672502040071], \"xaxis\": \"x2\", \"y\": [0.0779672502040071], \"yaxis\": \"y2\", \"type\": \"scatter\"}], \"name\": \"13\"}, {\"data\": [{\"hovertemplate\": \"data_type=measured<br>n_steps=14<br>x_position=%{y}<extra></extra>\", \"ids\": [\"measured\"], \"legendgroup\": \"measured\", \"marker\": {\"color\": \"#636efa\", \"symbol\": \"circle\"}, \"mode\": \"markers\", \"name\": \"measured\", \"orientation\": \"v\", \"showlegend\": true, \"x\": [0.10251836955607653], \"xaxis\": \"x\", \"y\": [0.10251836955607653], \"yaxis\": \"y\", \"type\": \"scatter\"}, {\"hovertemplate\": \"data_type=estimated<br>n_steps=14<br>x_position=%{y}<extra></extra>\", \"ids\": [\"estimated\"], \"legendgroup\": \"estimated\", \"marker\": {\"color\": \"#EF553B\", \"symbol\": \"circle\"}, \"mode\": \"markers\", \"name\": \"estimated\", \"orientation\": \"v\", \"showlegend\": true, \"x\": [0.08061552628497075], \"xaxis\": \"x2\", \"y\": [0.08061552628497075], \"yaxis\": \"y2\", \"type\": \"scatter\"}], \"name\": \"14\"}, {\"data\": [{\"hovertemplate\": \"data_type=measured<br>n_steps=15<br>x_position=%{y}<extra></extra>\", \"ids\": [\"measured\"], \"legendgroup\": \"measured\", \"marker\": {\"color\": \"#636efa\", \"symbol\": \"circle\"}, \"mode\": \"markers\", \"name\": \"measured\", \"orientation\": \"v\", \"showlegend\": true, \"x\": [-0.522025795662347], \"xaxis\": \"x\", \"y\": [-0.522025795662347], \"yaxis\": \"y\", \"type\": \"scatter\"}, {\"hovertemplate\": \"data_type=estimated<br>n_steps=15<br>x_position=%{y}<extra></extra>\", \"ids\": [\"estimated\"], \"legendgroup\": \"estimated\", \"marker\": {\"color\": \"#EF553B\", \"symbol\": \"circle\"}, \"mode\": \"markers\", \"name\": \"estimated\", \"orientation\": \"v\", \"showlegend\": true, \"x\": [0.03856880581056355], \"xaxis\": \"x2\", \"y\": [0.03856880581056355], \"yaxis\": \"y2\", \"type\": \"scatter\"}], \"name\": \"15\"}, {\"data\": [{\"hovertemplate\": \"data_type=measured<br>n_steps=16<br>x_position=%{y}<extra></extra>\", \"ids\": [\"measured\"], \"legendgroup\": \"measured\", \"marker\": {\"color\": \"#636efa\", \"symbol\": \"circle\"}, \"mode\": \"markers\", \"name\": \"measured\", \"orientation\": \"v\", \"showlegend\": true, \"x\": [-0.3479972750011961], \"xaxis\": \"x\", \"y\": [-0.3479972750011961], \"yaxis\": \"y\", \"type\": \"scatter\"}, {\"hovertemplate\": \"data_type=estimated<br>n_steps=16<br>x_position=%{y}<extra></extra>\", \"ids\": [\"estimated\"], \"legendgroup\": \"estimated\", \"marker\": {\"color\": \"#EF553B\", \"symbol\": \"circle\"}, \"mode\": \"markers\", \"name\": \"estimated\", \"orientation\": \"v\", \"showlegend\": true, \"x\": [0.012171884888930288], \"xaxis\": \"x2\", \"y\": [0.012171884888930288], \"yaxis\": \"y2\", \"type\": \"scatter\"}], \"name\": \"16\"}, {\"data\": [{\"hovertemplate\": \"data_type=measured<br>n_steps=17<br>x_position=%{y}<extra></extra>\", \"ids\": [\"measured\"], \"legendgroup\": \"measured\", \"marker\": {\"color\": \"#636efa\", \"symbol\": \"circle\"}, \"mode\": \"markers\", \"name\": \"measured\", \"orientation\": \"v\", \"showlegend\": true, \"x\": [0.38727833182856325], \"xaxis\": \"x\", \"y\": [0.38727833182856325], \"yaxis\": \"y\", \"type\": \"scatter\"}, {\"hovertemplate\": \"data_type=estimated<br>n_steps=17<br>x_position=%{y}<extra></extra>\", \"ids\": [\"estimated\"], \"legendgroup\": \"estimated\", \"marker\": {\"color\": \"#EF553B\", \"symbol\": \"circle\"}, \"mode\": \"markers\", \"name\": \"estimated\", \"orientation\": \"v\", \"showlegend\": true, \"x\": [0.03426742929238801], \"xaxis\": \"x2\", \"y\": [0.03426742929238801], \"yaxis\": \"y2\", \"type\": \"scatter\"}], \"name\": \"17\"}, {\"data\": [{\"hovertemplate\": \"data_type=measured<br>n_steps=18<br>x_position=%{y}<extra></extra>\", \"ids\": [\"measured\"], \"legendgroup\": \"measured\", \"marker\": {\"color\": \"#636efa\", \"symbol\": \"circle\"}, \"mode\": \"markers\", \"name\": \"measured\", \"orientation\": \"v\", \"showlegend\": true, \"x\": [0.3885630024740787], \"xaxis\": \"x\", \"y\": [0.3885630024740787], \"yaxis\": \"y\", \"type\": \"scatter\"}, {\"hovertemplate\": \"data_type=estimated<br>n_steps=18<br>x_position=%{y}<extra></extra>\", \"ids\": [\"estimated\"], \"legendgroup\": \"estimated\", \"marker\": {\"color\": \"#EF553B\", \"symbol\": \"circle\"}, \"mode\": \"markers\", \"name\": \"estimated\", \"orientation\": \"v\", \"showlegend\": true, \"x\": [0.05366139290765582], \"xaxis\": \"x2\", \"y\": [0.05366139290765582], \"yaxis\": \"y2\", \"type\": \"scatter\"}], \"name\": \"18\"}, {\"data\": [{\"hovertemplate\": \"data_type=measured<br>n_steps=19<br>x_position=%{y}<extra></extra>\", \"ids\": [\"measured\"], \"legendgroup\": \"measured\", \"marker\": {\"color\": \"#636efa\", \"symbol\": \"circle\"}, \"mode\": \"markers\", \"name\": \"measured\", \"orientation\": \"v\", \"showlegend\": true, \"x\": [-0.17543094893665243], \"xaxis\": \"x\", \"y\": [-0.17543094893665243], \"yaxis\": \"y\", \"type\": \"scatter\"}, {\"hovertemplate\": \"data_type=estimated<br>n_steps=19<br>x_position=%{y}<extra></extra>\", \"ids\": [\"estimated\"], \"legendgroup\": \"estimated\", \"marker\": {\"color\": \"#EF553B\", \"symbol\": \"circle\"}, \"mode\": \"markers\", \"name\": \"estimated\", \"orientation\": \"v\", \"showlegend\": true, \"x\": [0.04320235614724952], \"xaxis\": \"x2\", \"y\": [0.04320235614724952], \"yaxis\": \"y2\", \"type\": \"scatter\"}], \"name\": \"19\"}, {\"data\": [{\"hovertemplate\": \"data_type=measured<br>n_steps=20<br>x_position=%{y}<extra></extra>\", \"ids\": [\"measured\"], \"legendgroup\": \"measured\", \"marker\": {\"color\": \"#636efa\", \"symbol\": \"circle\"}, \"mode\": \"markers\", \"name\": \"measured\", \"orientation\": \"v\", \"showlegend\": true, \"x\": [0.13405414023615272], \"xaxis\": \"x\", \"y\": [0.13405414023615272], \"yaxis\": \"y\", \"type\": \"scatter\"}, {\"hovertemplate\": \"data_type=estimated<br>n_steps=20<br>x_position=%{y}<extra></extra>\", \"ids\": [\"estimated\"], \"legendgroup\": \"estimated\", \"marker\": {\"color\": \"#EF553B\", \"symbol\": \"circle\"}, \"mode\": \"markers\", \"name\": \"estimated\", \"orientation\": \"v\", \"showlegend\": true, \"x\": [0.0479016922231049], \"xaxis\": \"x2\", \"y\": [0.0479016922231049], \"yaxis\": \"y2\", \"type\": \"scatter\"}], \"name\": \"20\"}, {\"data\": [{\"hovertemplate\": \"data_type=measured<br>n_steps=21<br>x_position=%{y}<extra></extra>\", \"ids\": [\"measured\"], \"legendgroup\": \"measured\", \"marker\": {\"color\": \"#636efa\", \"symbol\": \"circle\"}, \"mode\": \"markers\", \"name\": \"measured\", \"orientation\": \"v\", \"showlegend\": true, \"x\": [-0.3839764508160929], \"xaxis\": \"x\", \"y\": [-0.3839764508160929], \"yaxis\": \"y\", \"type\": \"scatter\"}, {\"hovertemplate\": \"data_type=estimated<br>n_steps=21<br>x_position=%{y}<extra></extra>\", \"ids\": [\"estimated\"], \"legendgroup\": \"estimated\", \"marker\": {\"color\": \"#EF553B\", \"symbol\": \"circle\"}, \"mode\": \"markers\", \"name\": \"estimated\", \"orientation\": \"v\", \"showlegend\": true, \"x\": [0.027302211625789885], \"xaxis\": \"x2\", \"y\": [0.027302211625789885], \"yaxis\": \"y2\", \"type\": \"scatter\"}], \"name\": \"21\"}, {\"data\": [{\"hovertemplate\": \"data_type=measured<br>n_steps=22<br>x_position=%{y}<extra></extra>\", \"ids\": [\"measured\"], \"legendgroup\": \"measured\", \"marker\": {\"color\": \"#636efa\", \"symbol\": \"circle\"}, \"mode\": \"markers\", \"name\": \"measured\", \"orientation\": \"v\", \"showlegend\": true, \"x\": [0.41915356860816994], \"xaxis\": \"x\", \"y\": [0.41915356860816994], \"yaxis\": \"y\", \"type\": \"scatter\"}, {\"hovertemplate\": \"data_type=estimated<br>n_steps=22<br>x_position=%{y}<extra></extra>\", \"ids\": [\"estimated\"], \"legendgroup\": \"estimated\", \"marker\": {\"color\": \"#EF553B\", \"symbol\": \"circle\"}, \"mode\": \"markers\", \"name\": \"estimated\", \"orientation\": \"v\", \"showlegend\": true, \"x\": [0.04703830467281533], \"xaxis\": \"x2\", \"y\": [0.04703830467281533], \"yaxis\": \"y2\", \"type\": \"scatter\"}], \"name\": \"22\"}, {\"data\": [{\"hovertemplate\": \"data_type=measured<br>n_steps=23<br>x_position=%{y}<extra></extra>\", \"ids\": [\"measured\"], \"legendgroup\": \"measured\", \"marker\": {\"color\": \"#636efa\", \"symbol\": \"circle\"}, \"mode\": \"markers\", \"name\": \"measured\", \"orientation\": \"v\", \"showlegend\": true, \"x\": [0.3245474193921225], \"xaxis\": \"x\", \"y\": [0.3245474193921225], \"yaxis\": \"y\", \"type\": \"scatter\"}, {\"hovertemplate\": \"data_type=estimated<br>n_steps=23<br>x_position=%{y}<extra></extra>\", \"ids\": [\"estimated\"], \"legendgroup\": \"estimated\", \"marker\": {\"color\": \"#EF553B\", \"symbol\": \"circle\"}, \"mode\": \"markers\", \"name\": \"estimated\", \"orientation\": \"v\", \"showlegend\": true, \"x\": [0.06133877499682135], \"xaxis\": \"x2\", \"y\": [0.06133877499682135], \"yaxis\": \"y2\", \"type\": \"scatter\"}], \"name\": \"23\"}, {\"data\": [{\"hovertemplate\": \"data_type=measured<br>n_steps=24<br>x_position=%{y}<extra></extra>\", \"ids\": [\"measured\"], \"legendgroup\": \"measured\", \"marker\": {\"color\": \"#636efa\", \"symbol\": \"circle\"}, \"mode\": \"markers\", \"name\": \"measured\", \"orientation\": \"v\", \"showlegend\": true, \"x\": [0.13649494711006918], \"xaxis\": \"x\", \"y\": [0.13649494711006918], \"yaxis\": \"y\", \"type\": \"scatter\"}, {\"hovertemplate\": \"data_type=estimated<br>n_steps=24<br>x_position=%{y}<extra></extra>\", \"ids\": [\"estimated\"], \"legendgroup\": \"estimated\", \"marker\": {\"color\": \"#EF553B\", \"symbol\": \"circle\"}, \"mode\": \"markers\", \"name\": \"estimated\", \"orientation\": \"v\", \"showlegend\": true, \"x\": [0.06221283334846015], \"xaxis\": \"x2\", \"y\": [0.06221283334846015], \"yaxis\": \"y2\", \"type\": \"scatter\"}], \"name\": \"24\"}, {\"data\": [{\"hovertemplate\": \"data_type=measured<br>n_steps=25<br>x_position=%{y}<extra></extra>\", \"ids\": [\"measured\"], \"legendgroup\": \"measured\", \"marker\": {\"color\": \"#636efa\", \"symbol\": \"circle\"}, \"mode\": \"markers\", \"name\": \"measured\", \"orientation\": \"v\", \"showlegend\": true, \"x\": [0.7006753921544777], \"xaxis\": \"x\", \"y\": [0.7006753921544777], \"yaxis\": \"y\", \"type\": \"scatter\"}, {\"hovertemplate\": \"data_type=estimated<br>n_steps=25<br>x_position=%{y}<extra></extra>\", \"ids\": [\"estimated\"], \"legendgroup\": \"estimated\", \"marker\": {\"color\": \"#EF553B\", \"symbol\": \"circle\"}, \"mode\": \"markers\", \"name\": \"estimated\", \"orientation\": \"v\", \"showlegend\": true, \"x\": [0.09016954857144033], \"xaxis\": \"x2\", \"y\": [0.09016954857144033], \"yaxis\": \"y2\", \"type\": \"scatter\"}], \"name\": \"25\"}, {\"data\": [{\"hovertemplate\": \"data_type=measured<br>n_steps=26<br>x_position=%{y}<extra></extra>\", \"ids\": [\"measured\"], \"legendgroup\": \"measured\", \"marker\": {\"color\": \"#636efa\", \"symbol\": \"circle\"}, \"mode\": \"markers\", \"name\": \"measured\", \"orientation\": \"v\", \"showlegend\": true, \"x\": [-0.31079205685930866], \"xaxis\": \"x\", \"y\": [-0.31079205685930866], \"yaxis\": \"y\", \"type\": \"scatter\"}, {\"hovertemplate\": \"data_type=estimated<br>n_steps=26<br>x_position=%{y}<extra></extra>\", \"ids\": [\"estimated\"], \"legendgroup\": \"estimated\", \"marker\": {\"color\": \"#EF553B\", \"symbol\": \"circle\"}, \"mode\": \"markers\", \"name\": \"estimated\", \"orientation\": \"v\", \"showlegend\": true, \"x\": [0.07500465476246095], \"xaxis\": \"x2\", \"y\": [0.07500465476246095], \"yaxis\": \"y2\", \"type\": \"scatter\"}], \"name\": \"26\"}, {\"data\": [{\"hovertemplate\": \"data_type=measured<br>n_steps=27<br>x_position=%{y}<extra></extra>\", \"ids\": [\"measured\"], \"legendgroup\": \"measured\", \"marker\": {\"color\": \"#636efa\", \"symbol\": \"circle\"}, \"mode\": \"markers\", \"name\": \"measured\", \"orientation\": \"v\", \"showlegend\": true, \"x\": [-0.408719534721467], \"xaxis\": \"x\", \"y\": [-0.408719534721467], \"yaxis\": \"y\", \"type\": \"scatter\"}, {\"hovertemplate\": \"data_type=estimated<br>n_steps=27<br>x_position=%{y}<extra></extra>\", \"ids\": [\"estimated\"], \"legendgroup\": \"estimated\", \"marker\": {\"color\": \"#EF553B\", \"symbol\": \"circle\"}, \"mode\": \"markers\", \"name\": \"estimated\", \"orientation\": \"v\", \"showlegend\": true, \"x\": [0.0555269456351722], \"xaxis\": \"x2\", \"y\": [0.0555269456351722], \"yaxis\": \"y2\", \"type\": \"scatter\"}], \"name\": \"27\"}, {\"data\": [{\"hovertemplate\": \"data_type=measured<br>n_steps=28<br>x_position=%{y}<extra></extra>\", \"ids\": [\"measured\"], \"legendgroup\": \"measured\", \"marker\": {\"color\": \"#636efa\", \"symbol\": \"circle\"}, \"mode\": \"markers\", \"name\": \"measured\", \"orientation\": \"v\", \"showlegend\": true, \"x\": [0.10222082867816698], \"xaxis\": \"x\", \"y\": [0.10222082867816698], \"yaxis\": \"y\", \"type\": \"scatter\"}, {\"hovertemplate\": \"data_type=estimated<br>n_steps=28<br>x_position=%{y}<extra></extra>\", \"ids\": [\"estimated\"], \"legendgroup\": \"estimated\", \"marker\": {\"color\": \"#EF553B\", \"symbol\": \"circle\"}, \"mode\": \"markers\", \"name\": \"estimated\", \"orientation\": \"v\", \"showlegend\": true, \"x\": [0.05767981777968393], \"xaxis\": \"x2\", \"y\": [0.05767981777968393], \"yaxis\": \"y2\", \"type\": \"scatter\"}], \"name\": \"28\"}, {\"data\": [{\"hovertemplate\": \"data_type=measured<br>n_steps=29<br>x_position=%{y}<extra></extra>\", \"ids\": [\"measured\"], \"legendgroup\": \"measured\", \"marker\": {\"color\": \"#636efa\", \"symbol\": \"circle\"}, \"mode\": \"markers\", \"name\": \"measured\", \"orientation\": \"v\", \"showlegend\": true, \"x\": [-0.04542409826739829], \"xaxis\": \"x\", \"y\": [-0.04542409826739829], \"yaxis\": \"y\", \"type\": \"scatter\"}, {\"hovertemplate\": \"data_type=estimated<br>n_steps=29<br>x_position=%{y}<extra></extra>\", \"ids\": [\"estimated\"], \"legendgroup\": \"estimated\", \"marker\": {\"color\": \"#EF553B\", \"symbol\": \"circle\"}, \"mode\": \"markers\", \"name\": \"estimated\", \"orientation\": \"v\", \"showlegend\": true, \"x\": [0.05387155585051951], \"xaxis\": \"x2\", \"y\": [0.05387155585051951], \"yaxis\": \"y2\", \"type\": \"scatter\"}], \"name\": \"29\"}, {\"data\": [{\"hovertemplate\": \"data_type=measured<br>n_steps=30<br>x_position=%{y}<extra></extra>\", \"ids\": [\"measured\"], \"legendgroup\": \"measured\", \"marker\": {\"color\": \"#636efa\", \"symbol\": \"circle\"}, \"mode\": \"markers\", \"name\": \"measured\", \"orientation\": \"v\", \"showlegend\": true, \"x\": [0.11988542948390504], \"xaxis\": \"x\", \"y\": [0.11988542948390504], \"yaxis\": \"y\", \"type\": \"scatter\"}, {\"hovertemplate\": \"data_type=estimated<br>n_steps=30<br>x_position=%{y}<extra></extra>\", \"ids\": [\"estimated\"], \"legendgroup\": \"estimated\", \"marker\": {\"color\": \"#EF553B\", \"symbol\": \"circle\"}, \"mode\": \"markers\", \"name\": \"estimated\", \"orientation\": \"v\", \"showlegend\": true, \"x\": [0.055856412650053706], \"xaxis\": \"x2\", \"y\": [0.055856412650053706], \"yaxis\": \"y2\", \"type\": \"scatter\"}], \"name\": \"30\"}, {\"data\": [{\"hovertemplate\": \"data_type=measured<br>n_steps=31<br>x_position=%{y}<extra></extra>\", \"ids\": [\"measured\"], \"legendgroup\": \"measured\", \"marker\": {\"color\": \"#636efa\", \"symbol\": \"circle\"}, \"mode\": \"markers\", \"name\": \"measured\", \"orientation\": \"v\", \"showlegend\": true, \"x\": [0.5647892904553329], \"xaxis\": \"x\", \"y\": [0.5647892904553329], \"yaxis\": \"y\", \"type\": \"scatter\"}, {\"hovertemplate\": \"data_type=estimated<br>n_steps=31<br>x_position=%{y}<extra></extra>\", \"ids\": [\"estimated\"], \"legendgroup\": \"estimated\", \"marker\": {\"color\": \"#EF553B\", \"symbol\": \"circle\"}, \"mode\": \"markers\", \"name\": \"estimated\", \"orientation\": \"v\", \"showlegend\": true, \"x\": [0.07346498785883337], \"xaxis\": \"x2\", \"y\": [0.07346498785883337], \"yaxis\": \"y2\", \"type\": \"scatter\"}], \"name\": \"31\"}, {\"data\": [{\"hovertemplate\": \"data_type=measured<br>n_steps=32<br>x_position=%{y}<extra></extra>\", \"ids\": [\"measured\"], \"legendgroup\": \"measured\", \"marker\": {\"color\": \"#636efa\", \"symbol\": \"circle\"}, \"mode\": \"markers\", \"name\": \"measured\", \"orientation\": \"v\", \"showlegend\": true, \"x\": [-0.25235571171707233], \"xaxis\": \"x\", \"y\": [-0.25235571171707233], \"yaxis\": \"y\", \"type\": \"scatter\"}, {\"hovertemplate\": \"data_type=estimated<br>n_steps=32<br>x_position=%{y}<extra></extra>\", \"ids\": [\"estimated\"], \"legendgroup\": \"estimated\", \"marker\": {\"color\": \"#EF553B\", \"symbol\": \"circle\"}, \"mode\": \"markers\", \"name\": \"estimated\", \"orientation\": \"v\", \"showlegend\": true, \"x\": [0.06250965458686766], \"xaxis\": \"x2\", \"y\": [0.06250965458686766], \"yaxis\": \"y2\", \"type\": \"scatter\"}], \"name\": \"32\"}, {\"data\": [{\"hovertemplate\": \"data_type=measured<br>n_steps=33<br>x_position=%{y}<extra></extra>\", \"ids\": [\"measured\"], \"legendgroup\": \"measured\", \"marker\": {\"color\": \"#636efa\", \"symbol\": \"circle\"}, \"mode\": \"markers\", \"name\": \"measured\", \"orientation\": \"v\", \"showlegend\": true, \"x\": [-1.3109866653268814], \"xaxis\": \"x\", \"y\": [-1.3109866653268814], \"yaxis\": \"y\", \"type\": \"scatter\"}, {\"hovertemplate\": \"data_type=estimated<br>n_steps=33<br>x_position=%{y}<extra></extra>\", \"ids\": [\"estimated\"], \"legendgroup\": \"estimated\", \"marker\": {\"color\": \"#EF553B\", \"symbol\": \"circle\"}, \"mode\": \"markers\", \"name\": \"estimated\", \"orientation\": \"v\", \"showlegend\": true, \"x\": [0.014664790286948289], \"xaxis\": \"x2\", \"y\": [0.014664790286948289], \"yaxis\": \"y2\", \"type\": \"scatter\"}], \"name\": \"33\"}, {\"data\": [{\"hovertemplate\": \"data_type=measured<br>n_steps=34<br>x_position=%{y}<extra></extra>\", \"ids\": [\"measured\"], \"legendgroup\": \"measured\", \"marker\": {\"color\": \"#636efa\", \"symbol\": \"circle\"}, \"mode\": \"markers\", \"name\": \"measured\", \"orientation\": \"v\", \"showlegend\": true, \"x\": [-0.16614571648248794], \"xaxis\": \"x\", \"y\": [-0.16614571648248794], \"yaxis\": \"y\", \"type\": \"scatter\"}, {\"hovertemplate\": \"data_type=estimated<br>n_steps=34<br>x_position=%{y}<extra></extra>\", \"ids\": [\"estimated\"], \"legendgroup\": \"estimated\", \"marker\": {\"color\": \"#EF553B\", \"symbol\": \"circle\"}, \"mode\": \"markers\", \"name\": \"estimated\", \"orientation\": \"v\", \"showlegend\": true, \"x\": [0.005988417897122277], \"xaxis\": \"x2\", \"y\": [0.005988417897122277], \"yaxis\": \"y2\", \"type\": \"scatter\"}], \"name\": \"34\"}, {\"data\": [{\"hovertemplate\": \"data_type=measured<br>n_steps=35<br>x_position=%{y}<extra></extra>\", \"ids\": [\"measured\"], \"legendgroup\": \"measured\", \"marker\": {\"color\": \"#636efa\", \"symbol\": \"circle\"}, \"mode\": \"markers\", \"name\": \"measured\", \"orientation\": \"v\", \"showlegend\": true, \"x\": [-0.6921110052737336], \"xaxis\": \"x\", \"y\": [-0.6921110052737336], \"yaxis\": \"y\", \"type\": \"scatter\"}, {\"hovertemplate\": \"data_type=estimated<br>n_steps=35<br>x_position=%{y}<extra></extra>\", \"ids\": [\"estimated\"], \"legendgroup\": \"estimated\", \"marker\": {\"color\": \"#EF553B\", \"symbol\": \"circle\"}, \"mode\": \"markers\", \"name\": \"estimated\", \"orientation\": \"v\", \"showlegend\": true, \"x\": [-0.017072982146120477], \"xaxis\": \"x2\", \"y\": [-0.017072982146120477], \"yaxis\": \"y2\", \"type\": \"scatter\"}], \"name\": \"35\"}, {\"data\": [{\"hovertemplate\": \"data_type=measured<br>n_steps=36<br>x_position=%{y}<extra></extra>\", \"ids\": [\"measured\"], \"legendgroup\": \"measured\", \"marker\": {\"color\": \"#636efa\", \"symbol\": \"circle\"}, \"mode\": \"markers\", \"name\": \"measured\", \"orientation\": \"v\", \"showlegend\": true, \"x\": [-0.6991318603355574], \"xaxis\": \"x\", \"y\": [-0.6991318603355574], \"yaxis\": \"y\", \"type\": \"scatter\"}, {\"hovertemplate\": \"data_type=estimated<br>n_steps=36<br>x_position=%{y}<extra></extra>\", \"ids\": [\"estimated\"], \"legendgroup\": \"estimated\", \"marker\": {\"color\": \"#EF553B\", \"symbol\": \"circle\"}, \"mode\": \"markers\", \"name\": \"estimated\", \"orientation\": \"v\", \"showlegend\": true, \"x\": [-0.039838938585990885], \"xaxis\": \"x2\", \"y\": [-0.039838938585990885], \"yaxis\": \"y2\", \"type\": \"scatter\"}], \"name\": \"36\"}, {\"data\": [{\"hovertemplate\": \"data_type=measured<br>n_steps=37<br>x_position=%{y}<extra></extra>\", \"ids\": [\"measured\"], \"legendgroup\": \"measured\", \"marker\": {\"color\": \"#636efa\", \"symbol\": \"circle\"}, \"mode\": \"markers\", \"name\": \"measured\", \"orientation\": \"v\", \"showlegend\": true, \"x\": [0.05194634479202548], \"xaxis\": \"x\", \"y\": [0.05194634479202548], \"yaxis\": \"y\", \"type\": \"scatter\"}, {\"hovertemplate\": \"data_type=estimated<br>n_steps=37<br>x_position=%{y}<extra></extra>\", \"ids\": [\"estimated\"], \"legendgroup\": \"estimated\", \"marker\": {\"color\": \"#EF553B\", \"symbol\": \"circle\"}, \"mode\": \"markers\", \"name\": \"estimated\", \"orientation\": \"v\", \"showlegend\": true, \"x\": [-0.0348622109273465], \"xaxis\": \"x2\", \"y\": [-0.0348622109273465], \"yaxis\": \"y2\", \"type\": \"scatter\"}], \"name\": \"37\"}, {\"data\": [{\"hovertemplate\": \"data_type=measured<br>n_steps=38<br>x_position=%{y}<extra></extra>\", \"ids\": [\"measured\"], \"legendgroup\": \"measured\", \"marker\": {\"color\": \"#636efa\", \"symbol\": \"circle\"}, \"mode\": \"markers\", \"name\": \"measured\", \"orientation\": \"v\", \"showlegend\": true, \"x\": [-0.2986281575313543], \"xaxis\": \"x\", \"y\": [-0.2986281575313543], \"yaxis\": \"y\", \"type\": \"scatter\"}, {\"hovertemplate\": \"data_type=estimated<br>n_steps=38<br>x_position=%{y}<extra></extra>\", \"ids\": [\"estimated\"], \"legendgroup\": \"estimated\", \"marker\": {\"color\": \"#EF553B\", \"symbol\": \"circle\"}, \"mode\": \"markers\", \"name\": \"estimated\", \"orientation\": \"v\", \"showlegend\": true, \"x\": [-0.04621992388915856], \"xaxis\": \"x2\", \"y\": [-0.04621992388915856], \"yaxis\": \"y2\", \"type\": \"scatter\"}], \"name\": \"38\"}, {\"data\": [{\"hovertemplate\": \"data_type=measured<br>n_steps=39<br>x_position=%{y}<extra></extra>\", \"ids\": [\"measured\"], \"legendgroup\": \"measured\", \"marker\": {\"color\": \"#636efa\", \"symbol\": \"circle\"}, \"mode\": \"markers\", \"name\": \"measured\", \"orientation\": \"v\", \"showlegend\": true, \"x\": [0.102458050120598], \"xaxis\": \"x\", \"y\": [0.102458050120598], \"yaxis\": \"y\", \"type\": \"scatter\"}, {\"hovertemplate\": \"data_type=estimated<br>n_steps=39<br>x_position=%{y}<extra></extra>\", \"ids\": [\"estimated\"], \"legendgroup\": \"estimated\", \"marker\": {\"color\": \"#EF553B\", \"symbol\": \"circle\"}, \"mode\": \"markers\", \"name\": \"estimated\", \"orientation\": \"v\", \"showlegend\": true, \"x\": [-0.03797081772965196], \"xaxis\": \"x2\", \"y\": [-0.03797081772965196], \"yaxis\": \"y2\", \"type\": \"scatter\"}], \"name\": \"39\"}, {\"data\": [{\"hovertemplate\": \"data_type=measured<br>n_steps=40<br>x_position=%{y}<extra></extra>\", \"ids\": [\"measured\"], \"legendgroup\": \"measured\", \"marker\": {\"color\": \"#636efa\", \"symbol\": \"circle\"}, \"mode\": \"markers\", \"name\": \"measured\", \"orientation\": \"v\", \"showlegend\": true, \"x\": [1.3281378047376942], \"xaxis\": \"x\", \"y\": [1.3281378047376942], \"yaxis\": \"y\", \"type\": \"scatter\"}, {\"hovertemplate\": \"data_type=estimated<br>n_steps=40<br>x_position=%{y}<extra></extra>\", \"ids\": [\"estimated\"], \"legendgroup\": \"estimated\", \"marker\": {\"color\": \"#EF553B\", \"symbol\": \"circle\"}, \"mode\": \"markers\", \"name\": \"estimated\", \"orientation\": \"v\", \"showlegend\": true, \"x\": [0.004262568286867205], \"xaxis\": \"x2\", \"y\": [0.004262568286867205], \"yaxis\": \"y2\", \"type\": \"scatter\"}], \"name\": \"40\"}, {\"data\": [{\"hovertemplate\": \"data_type=measured<br>n_steps=41<br>x_position=%{y}<extra></extra>\", \"ids\": [\"measured\"], \"legendgroup\": \"measured\", \"marker\": {\"color\": \"#636efa\", \"symbol\": \"circle\"}, \"mode\": \"markers\", \"name\": \"measured\", \"orientation\": \"v\", \"showlegend\": true, \"x\": [0.105625060694382], \"xaxis\": \"x\", \"y\": [0.105625060694382], \"yaxis\": \"y\", \"type\": \"scatter\"}, {\"hovertemplate\": \"data_type=estimated<br>n_steps=41<br>x_position=%{y}<extra></extra>\", \"ids\": [\"estimated\"], \"legendgroup\": \"estimated\", \"marker\": {\"color\": \"#EF553B\", \"symbol\": \"circle\"}, \"mode\": \"markers\", \"name\": \"estimated\", \"orientation\": \"v\", \"showlegend\": true, \"x\": [0.003797421954494815], \"xaxis\": \"x2\", \"y\": [0.003797421954494815], \"yaxis\": \"y2\", \"type\": \"scatter\"}], \"name\": \"41\"}, {\"data\": [{\"hovertemplate\": \"data_type=measured<br>n_steps=42<br>x_position=%{y}<extra></extra>\", \"ids\": [\"measured\"], \"legendgroup\": \"measured\", \"marker\": {\"color\": \"#636efa\", \"symbol\": \"circle\"}, \"mode\": \"markers\", \"name\": \"measured\", \"orientation\": \"v\", \"showlegend\": true, \"x\": [-0.05758472934211215], \"xaxis\": \"x\", \"y\": [-0.05758472934211215], \"yaxis\": \"y\", \"type\": \"scatter\"}, {\"hovertemplate\": \"data_type=estimated<br>n_steps=42<br>x_position=%{y}<extra></extra>\", \"ids\": [\"estimated\"], \"legendgroup\": \"estimated\", \"marker\": {\"color\": \"#EF553B\", \"symbol\": \"circle\"}, \"mode\": \"markers\", \"name\": \"estimated\", \"orientation\": \"v\", \"showlegend\": true, \"x\": [0.0003383801249741375], \"xaxis\": \"x2\", \"y\": [0.0003383801249741375], \"yaxis\": \"y2\", \"type\": \"scatter\"}], \"name\": \"42\"}, {\"data\": [{\"hovertemplate\": \"data_type=measured<br>n_steps=43<br>x_position=%{y}<extra></extra>\", \"ids\": [\"measured\"], \"legendgroup\": \"measured\", \"marker\": {\"color\": \"#636efa\", \"symbol\": \"circle\"}, \"mode\": \"markers\", \"name\": \"measured\", \"orientation\": \"v\", \"showlegend\": true, \"x\": [-0.028423895412325623], \"xaxis\": \"x\", \"y\": [-0.028423895412325623], \"yaxis\": \"y\", \"type\": \"scatter\"}, {\"hovertemplate\": \"data_type=estimated<br>n_steps=43<br>x_position=%{y}<extra></extra>\", \"ids\": [\"estimated\"], \"legendgroup\": \"estimated\", \"marker\": {\"color\": \"#EF553B\", \"symbol\": \"circle\"}, \"mode\": \"markers\", \"name\": \"estimated\", \"orientation\": \"v\", \"showlegend\": true, \"x\": [-0.004314382610720318], \"xaxis\": \"x2\", \"y\": [-0.004314382610720318], \"yaxis\": \"y2\", \"type\": \"scatter\"}], \"name\": \"43\"}, {\"data\": [{\"hovertemplate\": \"data_type=measured<br>n_steps=44<br>x_position=%{y}<extra></extra>\", \"ids\": [\"measured\"], \"legendgroup\": \"measured\", \"marker\": {\"color\": \"#636efa\", \"symbol\": \"circle\"}, \"mode\": \"markers\", \"name\": \"measured\", \"orientation\": \"v\", \"showlegend\": true, \"x\": [0.08543775082825016], \"xaxis\": \"x\", \"y\": [0.08543775082825016], \"yaxis\": \"y\", \"type\": \"scatter\"}, {\"hovertemplate\": \"data_type=estimated<br>n_steps=44<br>x_position=%{y}<extra></extra>\", \"ids\": [\"estimated\"], \"legendgroup\": \"estimated\", \"marker\": {\"color\": \"#EF553B\", \"symbol\": \"circle\"}, \"mode\": \"markers\", \"name\": \"estimated\", \"orientation\": \"v\", \"showlegend\": true, \"x\": [-0.0005025897699716102], \"xaxis\": \"x2\", \"y\": [-0.0005025897699716102], \"yaxis\": \"y2\", \"type\": \"scatter\"}], \"name\": \"44\"}, {\"data\": [{\"hovertemplate\": \"data_type=measured<br>n_steps=45<br>x_position=%{y}<extra></extra>\", \"ids\": [\"measured\"], \"legendgroup\": \"measured\", \"marker\": {\"color\": \"#636efa\", \"symbol\": \"circle\"}, \"mode\": \"markers\", \"name\": \"measured\", \"orientation\": \"v\", \"showlegend\": true, \"x\": [-0.44812427943679883], \"xaxis\": \"x\", \"y\": [-0.44812427943679883], \"yaxis\": \"y\", \"type\": \"scatter\"}, {\"hovertemplate\": \"data_type=estimated<br>n_steps=45<br>x_position=%{y}<extra></extra>\", \"ids\": [\"estimated\"], \"legendgroup\": \"estimated\", \"marker\": {\"color\": \"#EF553B\", \"symbol\": \"circle\"}, \"mode\": \"markers\", \"name\": \"estimated\", \"orientation\": \"v\", \"showlegend\": true, \"x\": [-0.012186245507737156], \"xaxis\": \"x2\", \"y\": [-0.012186245507737156], \"yaxis\": \"y2\", \"type\": \"scatter\"}], \"name\": \"45\"}, {\"data\": [{\"hovertemplate\": \"data_type=measured<br>n_steps=46<br>x_position=%{y}<extra></extra>\", \"ids\": [\"measured\"], \"legendgroup\": \"measured\", \"marker\": {\"color\": \"#636efa\", \"symbol\": \"circle\"}, \"mode\": \"markers\", \"name\": \"measured\", \"orientation\": \"v\", \"showlegend\": true, \"x\": [0.05106091064293335], \"xaxis\": \"x\", \"y\": [0.05106091064293335], \"yaxis\": \"y\", \"type\": \"scatter\"}, {\"hovertemplate\": \"data_type=estimated<br>n_steps=46<br>x_position=%{y}<extra></extra>\", \"ids\": [\"estimated\"], \"legendgroup\": \"estimated\", \"marker\": {\"color\": \"#EF553B\", \"symbol\": \"circle\"}, \"mode\": \"markers\", \"name\": \"estimated\", \"orientation\": \"v\", \"showlegend\": true, \"x\": [-0.010381082576092193], \"xaxis\": \"x2\", \"y\": [-0.010381082576092193], \"yaxis\": \"y2\", \"type\": \"scatter\"}], \"name\": \"46\"}, {\"data\": [{\"hovertemplate\": \"data_type=measured<br>n_steps=47<br>x_position=%{y}<extra></extra>\", \"ids\": [\"measured\"], \"legendgroup\": \"measured\", \"marker\": {\"color\": \"#636efa\", \"symbol\": \"circle\"}, \"mode\": \"markers\", \"name\": \"measured\", \"orientation\": \"v\", \"showlegend\": true, \"x\": [0.9045351591995927], \"xaxis\": \"x\", \"y\": [0.9045351591995927], \"yaxis\": \"y\", \"type\": \"scatter\"}, {\"hovertemplate\": \"data_type=estimated<br>n_steps=47<br>x_position=%{y}<extra></extra>\", \"ids\": [\"estimated\"], \"legendgroup\": \"estimated\", \"marker\": {\"color\": \"#EF553B\", \"symbol\": \"circle\"}, \"mode\": \"markers\", \"name\": \"estimated\", \"orientation\": \"v\", \"showlegend\": true, \"x\": [0.013329613860451948], \"xaxis\": \"x2\", \"y\": [0.013329613860451948], \"yaxis\": \"y2\", \"type\": \"scatter\"}], \"name\": \"47\"}, {\"data\": [{\"hovertemplate\": \"data_type=measured<br>n_steps=48<br>x_position=%{y}<extra></extra>\", \"ids\": [\"measured\"], \"legendgroup\": \"measured\", \"marker\": {\"color\": \"#636efa\", \"symbol\": \"circle\"}, \"mode\": \"markers\", \"name\": \"measured\", \"orientation\": \"v\", \"showlegend\": true, \"x\": [-0.41209362721955856], \"xaxis\": \"x\", \"y\": [-0.41209362721955856], \"yaxis\": \"y\", \"type\": \"scatter\"}, {\"hovertemplate\": \"data_type=estimated<br>n_steps=48<br>x_position=%{y}<extra></extra>\", \"ids\": [\"estimated\"], \"legendgroup\": \"estimated\", \"marker\": {\"color\": \"#EF553B\", \"symbol\": \"circle\"}, \"mode\": \"markers\", \"name\": \"estimated\", \"orientation\": \"v\", \"showlegend\": true, \"x\": [0.0003878749023745881], \"xaxis\": \"x2\", \"y\": [0.0003878749023745881], \"yaxis\": \"y2\", \"type\": \"scatter\"}], \"name\": \"48\"}, {\"data\": [{\"hovertemplate\": \"data_type=measured<br>n_steps=49<br>x_position=%{y}<extra></extra>\", \"ids\": [\"measured\"], \"legendgroup\": \"measured\", \"marker\": {\"color\": \"#636efa\", \"symbol\": \"circle\"}, \"mode\": \"markers\", \"name\": \"measured\", \"orientation\": \"v\", \"showlegend\": true, \"x\": [0.3915434868442147], \"xaxis\": \"x\", \"y\": [0.3915434868442147], \"yaxis\": \"y\", \"type\": \"scatter\"}, {\"hovertemplate\": \"data_type=estimated<br>n_steps=49<br>x_position=%{y}<extra></extra>\", \"ids\": [\"estimated\"], \"legendgroup\": \"estimated\", \"marker\": {\"color\": \"#EF553B\", \"symbol\": \"circle\"}, \"mode\": \"markers\", \"name\": \"estimated\", \"orientation\": \"v\", \"showlegend\": true, \"x\": [0.009834472204981485], \"xaxis\": \"x2\", \"y\": [0.009834472204981485], \"yaxis\": \"y2\", \"type\": \"scatter\"}], \"name\": \"49\"}]);\n",
       "                        }).then(function(){\n",
       "                            \n",
       "var gd = document.getElementById('3f5aac38-548f-40d0-b9e7-9522e0381839');\n",
       "var x = new MutationObserver(function (mutations, observer) {{\n",
       "        var display = window.getComputedStyle(gd).display;\n",
       "        if (!display || display === 'none') {{\n",
       "            console.log([gd, 'removed!']);\n",
       "            Plotly.purge(gd);\n",
       "            observer.disconnect();\n",
       "        }}\n",
       "}});\n",
       "\n",
       "// Listen for the removal of the full notebook cells\n",
       "var notebookContainer = gd.closest('#notebook-container');\n",
       "if (notebookContainer) {{\n",
       "    x.observe(notebookContainer, {childList: true});\n",
       "}}\n",
       "\n",
       "// Listen for the clearing of the current output cell\n",
       "var outputEl = gd.closest('.output');\n",
       "if (outputEl) {{\n",
       "    x.observe(outputEl, {childList: true});\n",
       "}}\n",
       "\n",
       "                        })\n",
       "                };\n",
       "                });\n",
       "            </script>\n",
       "        </div>"
      ]
     },
     "metadata": {},
     "output_type": "display_data"
    }
   ],
   "source": [
    "# Creating a pandas dataframe for animation\n",
    "x_position = []\n",
    "y_position = []\n",
    "data_type = []\n",
    "n_steps = []\n",
    "\n",
    "for n in range(n_iters):\n",
    "    x_position.append(float(measurements[n][0]))\n",
    "    y_position.append(float(measurements[n][1]))\n",
    "    data_type.append('measured')\n",
    "    n_steps.append(int(n))\n",
    "    \n",
    "for n in range(n_iters):\n",
    "    x_position.append(float(x_hat[n][0]))\n",
    "    y_position.append(float(x_hat[n][1]))\n",
    "    data_type.append('estimated')\n",
    "    n_steps.append(int(n))\n",
    "\n",
    "df = pd.DataFrame({'x_position':x_position,\n",
    "                   'y_position':y_position,\n",
    "                   'data_type':data_type,\n",
    "                   'n_steps':n_steps})\n",
    "\n",
    "# Creating the animation\n",
    "import plotly.express as px\n",
    "\n",
    "fig = px.scatter(df, \n",
    "                 x =\"x_position\", \n",
    "                 y =\"x_position\", \n",
    "                 animation_frame =\"n_steps\",\n",
    "                 animation_group =\"data_type\",\n",
    "                 color =\"data_type\",\n",
    "                 facet_col =\"data_type\",\n",
    "                 range_x=[-3, 3], \n",
    "                 range_y=[-3, 3])\n",
    "fig.show()"
   ]
  },
  {
   "cell_type": "markdown",
   "metadata": {},
   "source": [
    "One can see from above, kalman filtered estimates converge near the actual position as the iterations progress. \n",
    "\n",
    "With this basic application, I wanted to demonstrate how to use kalman filter to stabilize noisy position data. Similarly noisy wind, current and acoustic position data can be stabilized before usage. This study can be improved by defining mathematical model of the ship and adding velocity, acceleration, wind and current data to the related matrices.\n",
    "\n",
    "**Resources:**\n",
    "\n",
    "Great video explanations:\\\n",
    "https://www.youtube.com/watch?v=mwn8xhgNpFY&list=PLn8PRpmsu08pzi6EMiYnR-076Mh-q3tWr&ab_channel=MATLAB\n",
    "\n",
    "Detailed video explanations:\\\n",
    "https://www.youtube.com/watch?v=CaCcOwJPytQ&feature=youtu.be&ab_channel=MichelvanBiezen\n",
    "\n",
    "One dimensional kalman filter approach:\\\n",
    "https://towardsdatascience.com/kalman-filters-a-step-by-step-implementation-guide-in-python-91e7e123b968\n",
    "\n",
    "One dimensional kalman filter with Python:\\\n",
    "https://scipy-cookbook.readthedocs.io/items/KalmanFiltering.html\n",
    "\n",
    "Multi dimensional kalman filter approach:\\\n",
    "https://medium.com/@jaems33/understanding-kalman-filters-with-python-2310e87b8f48\n",
    "\n",
    "Introduction to kalman filter:\\\n",
    "https://www.cs.unc.edu/~welch/media/pdf/kalman_intro.pdf\n",
    "\n",
    "Kalman filtering and DP applications:\\\n",
    "https://dynamic-positioning.com/proceedings/dp2003/design_cadet.pdf\n"
   ]
  }
 ],
 "metadata": {
  "kernelspec": {
   "display_name": "Python 3",
   "language": "python",
   "name": "python3"
  },
  "language_info": {
   "codemirror_mode": {
    "name": "ipython",
    "version": 3
   },
   "file_extension": ".py",
   "mimetype": "text/x-python",
   "name": "python",
   "nbconvert_exporter": "python",
   "pygments_lexer": "ipython3",
   "version": "3.8.3"
  }
 },
 "nbformat": 4,
 "nbformat_minor": 4
}
